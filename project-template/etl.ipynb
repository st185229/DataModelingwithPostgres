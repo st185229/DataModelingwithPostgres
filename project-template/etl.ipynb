{
 "cells": [
  {
   "cell_type": "markdown",
   "metadata": {
    "pycharm": {
     "name": "#%% md\n"
    }
   },
   "source": [
    "# ETL Processes\n",
    "Use this notebook to develop the ETL process for each of your tables before completing the `etl.py` file to load the whole datasets."
   ]
  },
  {
   "cell_type": "code",
   "execution_count": 210,
   "metadata": {
    "pycharm": {
     "name": "#%%\n"
    }
   },
   "outputs": [],
   "source": [
    "import os\n",
    "import glob\n",
    "import psycopg2\n",
    "import pandas as pd\n",
    "from sql_queries import *\n",
    "from credentials import *"
   ]
  },
  {
   "cell_type": "code",
   "execution_count": 211,
   "metadata": {
    "pycharm": {
     "name": "#%%\n"
    }
   },
   "outputs": [],
   "source": [
    "conn = psycopg2.connect(\"host={} dbname={} user={} password={}\".format(host,dbname,user,password))\n",
    "cur = conn.cursor()"
   ]
  },
  {
   "cell_type": "code",
   "execution_count": 212,
   "metadata": {
    "pycharm": {
     "name": "#%%\n"
    }
   },
   "outputs": [],
   "source": [
    "def get_files(filepath):\n",
    "    all_files = []\n",
    "    for root, dirs, files in os.walk(filepath):\n",
    "        files = glob.glob(os.path.join(root,'*.json'))\n",
    "        for f in files :\n",
    "            all_files.append(os.path.abspath(f))\n",
    "    return all_files"
   ]
  },
  {
   "cell_type": "markdown",
   "metadata": {
    "pycharm": {
     "name": "#%% md\n"
    }
   },
   "source": [
    "# Process `song_data`\n",
    "In this first part, you'll perform ETL on the first dataset, `song_data`, to create the `songs` and `artists` dimensional tables.\n",
    "\n",
    "Let's perform ETL on a single song file and load a single record into each table to start.\n",
    "- Use the `get_files` function provided above to get a list of all song JSON files in `data/song_data`\n",
    "- Select the first song in this list\n",
    "- Read the song file and view the data"
   ]
  },
  {
   "cell_type": "code",
   "execution_count": 213,
   "metadata": {
    "pycharm": {
     "name": "#%%\n"
    }
   },
   "outputs": [
    {
     "name": "stdout",
     "output_type": "stream",
     "text": [
      "['C:\\\\Users\\\\sthoe09258\\\\OneDrive - Elekta\\\\Desktop\\\\udacity\\\\DataEngineering\\\\project1\\\\project-template\\\\data\\\\song_data\\\\A\\\\A\\\\A\\\\TRAAAAW128F429D538.json', 'C:\\\\Users\\\\sthoe09258\\\\OneDrive - Elekta\\\\Desktop\\\\udacity\\\\DataEngineering\\\\project1\\\\project-template\\\\data\\\\song_data\\\\A\\\\A\\\\A\\\\TRAAABD128F429CF47.json', 'C:\\\\Users\\\\sthoe09258\\\\OneDrive - Elekta\\\\Desktop\\\\udacity\\\\DataEngineering\\\\project1\\\\project-template\\\\data\\\\song_data\\\\A\\\\A\\\\A\\\\TRAAADZ128F9348C2E.json', 'C:\\\\Users\\\\sthoe09258\\\\OneDrive - Elekta\\\\Desktop\\\\udacity\\\\DataEngineering\\\\project1\\\\project-template\\\\data\\\\song_data\\\\A\\\\A\\\\A\\\\TRAAAEF128F4273421.json', 'C:\\\\Users\\\\sthoe09258\\\\OneDrive - Elekta\\\\Desktop\\\\udacity\\\\DataEngineering\\\\project1\\\\project-template\\\\data\\\\song_data\\\\A\\\\A\\\\A\\\\TRAAAFD128F92F423A.json', 'C:\\\\Users\\\\sthoe09258\\\\OneDrive - Elekta\\\\Desktop\\\\udacity\\\\DataEngineering\\\\project1\\\\project-template\\\\data\\\\song_data\\\\A\\\\A\\\\A\\\\TRAAAMO128F1481E7F.json', 'C:\\\\Users\\\\sthoe09258\\\\OneDrive - Elekta\\\\Desktop\\\\udacity\\\\DataEngineering\\\\project1\\\\project-template\\\\data\\\\song_data\\\\A\\\\A\\\\A\\\\TRAAAMQ128F1460CD3.json', 'C:\\\\Users\\\\sthoe09258\\\\OneDrive - Elekta\\\\Desktop\\\\udacity\\\\DataEngineering\\\\project1\\\\project-template\\\\data\\\\song_data\\\\A\\\\A\\\\A\\\\TRAAAPK128E0786D96.json', 'C:\\\\Users\\\\sthoe09258\\\\OneDrive - Elekta\\\\Desktop\\\\udacity\\\\DataEngineering\\\\project1\\\\project-template\\\\data\\\\song_data\\\\A\\\\A\\\\A\\\\TRAAARJ128F9320760.json', 'C:\\\\Users\\\\sthoe09258\\\\OneDrive - Elekta\\\\Desktop\\\\udacity\\\\DataEngineering\\\\project1\\\\project-template\\\\data\\\\song_data\\\\A\\\\A\\\\A\\\\TRAAAVG12903CFA543.json', 'C:\\\\Users\\\\sthoe09258\\\\OneDrive - Elekta\\\\Desktop\\\\udacity\\\\DataEngineering\\\\project1\\\\project-template\\\\data\\\\song_data\\\\A\\\\A\\\\A\\\\TRAAAVO128F93133D4.json', 'C:\\\\Users\\\\sthoe09258\\\\OneDrive - Elekta\\\\Desktop\\\\udacity\\\\DataEngineering\\\\project1\\\\project-template\\\\data\\\\song_data\\\\A\\\\A\\\\B\\\\TRAABCL128F4286650.json', 'C:\\\\Users\\\\sthoe09258\\\\OneDrive - Elekta\\\\Desktop\\\\udacity\\\\DataEngineering\\\\project1\\\\project-template\\\\data\\\\song_data\\\\A\\\\A\\\\B\\\\TRAABDL12903CAABBA.json', 'C:\\\\Users\\\\sthoe09258\\\\OneDrive - Elekta\\\\Desktop\\\\udacity\\\\DataEngineering\\\\project1\\\\project-template\\\\data\\\\song_data\\\\A\\\\A\\\\B\\\\TRAABJL12903CDCF1A.json', 'C:\\\\Users\\\\sthoe09258\\\\OneDrive - Elekta\\\\Desktop\\\\udacity\\\\DataEngineering\\\\project1\\\\project-template\\\\data\\\\song_data\\\\A\\\\A\\\\B\\\\TRAABJV128F1460C49.json', 'C:\\\\Users\\\\sthoe09258\\\\OneDrive - Elekta\\\\Desktop\\\\udacity\\\\DataEngineering\\\\project1\\\\project-template\\\\data\\\\song_data\\\\A\\\\A\\\\B\\\\TRAABLR128F423B7E3.json', 'C:\\\\Users\\\\sthoe09258\\\\OneDrive - Elekta\\\\Desktop\\\\udacity\\\\DataEngineering\\\\project1\\\\project-template\\\\data\\\\song_data\\\\A\\\\A\\\\B\\\\TRAABNV128F425CEE1.json', 'C:\\\\Users\\\\sthoe09258\\\\OneDrive - Elekta\\\\Desktop\\\\udacity\\\\DataEngineering\\\\project1\\\\project-template\\\\data\\\\song_data\\\\A\\\\A\\\\B\\\\TRAABRB128F9306DD5.json', 'C:\\\\Users\\\\sthoe09258\\\\OneDrive - Elekta\\\\Desktop\\\\udacity\\\\DataEngineering\\\\project1\\\\project-template\\\\data\\\\song_data\\\\A\\\\A\\\\B\\\\TRAABVM128F92CA9DC.json', 'C:\\\\Users\\\\sthoe09258\\\\OneDrive - Elekta\\\\Desktop\\\\udacity\\\\DataEngineering\\\\project1\\\\project-template\\\\data\\\\song_data\\\\A\\\\A\\\\B\\\\TRAABXG128F9318EBD.json', 'C:\\\\Users\\\\sthoe09258\\\\OneDrive - Elekta\\\\Desktop\\\\udacity\\\\DataEngineering\\\\project1\\\\project-template\\\\data\\\\song_data\\\\A\\\\A\\\\B\\\\TRAABYN12903CFD305.json', 'C:\\\\Users\\\\sthoe09258\\\\OneDrive - Elekta\\\\Desktop\\\\udacity\\\\DataEngineering\\\\project1\\\\project-template\\\\data\\\\song_data\\\\A\\\\A\\\\B\\\\TRAABYW128F4244559.json', 'C:\\\\Users\\\\sthoe09258\\\\OneDrive - Elekta\\\\Desktop\\\\udacity\\\\DataEngineering\\\\project1\\\\project-template\\\\data\\\\song_data\\\\A\\\\A\\\\C\\\\TRAACCG128F92E8A55.json', 'C:\\\\Users\\\\sthoe09258\\\\OneDrive - Elekta\\\\Desktop\\\\udacity\\\\DataEngineering\\\\project1\\\\project-template\\\\data\\\\song_data\\\\A\\\\A\\\\C\\\\TRAACER128F4290F96.json', 'C:\\\\Users\\\\sthoe09258\\\\OneDrive - Elekta\\\\Desktop\\\\udacity\\\\DataEngineering\\\\project1\\\\project-template\\\\data\\\\song_data\\\\A\\\\A\\\\C\\\\TRAACFV128F935E50B.json', 'C:\\\\Users\\\\sthoe09258\\\\OneDrive - Elekta\\\\Desktop\\\\udacity\\\\DataEngineering\\\\project1\\\\project-template\\\\data\\\\song_data\\\\A\\\\A\\\\C\\\\TRAACHN128F1489601.json', 'C:\\\\Users\\\\sthoe09258\\\\OneDrive - Elekta\\\\Desktop\\\\udacity\\\\DataEngineering\\\\project1\\\\project-template\\\\data\\\\song_data\\\\A\\\\A\\\\C\\\\TRAACIW12903CC0F6D.json', 'C:\\\\Users\\\\sthoe09258\\\\OneDrive - Elekta\\\\Desktop\\\\udacity\\\\DataEngineering\\\\project1\\\\project-template\\\\data\\\\song_data\\\\A\\\\A\\\\C\\\\TRAACLV128F427E123.json', 'C:\\\\Users\\\\sthoe09258\\\\OneDrive - Elekta\\\\Desktop\\\\udacity\\\\DataEngineering\\\\project1\\\\project-template\\\\data\\\\song_data\\\\A\\\\A\\\\C\\\\TRAACNS128F14A2DF5.json', 'C:\\\\Users\\\\sthoe09258\\\\OneDrive - Elekta\\\\Desktop\\\\udacity\\\\DataEngineering\\\\project1\\\\project-template\\\\data\\\\song_data\\\\A\\\\A\\\\C\\\\TRAACOW128F933E35F.json', 'C:\\\\Users\\\\sthoe09258\\\\OneDrive - Elekta\\\\Desktop\\\\udacity\\\\DataEngineering\\\\project1\\\\project-template\\\\data\\\\song_data\\\\A\\\\A\\\\C\\\\TRAACPE128F421C1B9.json', 'C:\\\\Users\\\\sthoe09258\\\\OneDrive - Elekta\\\\Desktop\\\\udacity\\\\DataEngineering\\\\project1\\\\project-template\\\\data\\\\song_data\\\\A\\\\A\\\\C\\\\TRAACQT128F9331780.json', 'C:\\\\Users\\\\sthoe09258\\\\OneDrive - Elekta\\\\Desktop\\\\udacity\\\\DataEngineering\\\\project1\\\\project-template\\\\data\\\\song_data\\\\A\\\\A\\\\C\\\\TRAACSL128F93462F4.json', 'C:\\\\Users\\\\sthoe09258\\\\OneDrive - Elekta\\\\Desktop\\\\udacity\\\\DataEngineering\\\\project1\\\\project-template\\\\data\\\\song_data\\\\A\\\\A\\\\C\\\\TRAACTB12903CAAF15.json', 'C:\\\\Users\\\\sthoe09258\\\\OneDrive - Elekta\\\\Desktop\\\\udacity\\\\DataEngineering\\\\project1\\\\project-template\\\\data\\\\song_data\\\\A\\\\A\\\\C\\\\TRAACVS128E078BE39.json', 'C:\\\\Users\\\\sthoe09258\\\\OneDrive - Elekta\\\\Desktop\\\\udacity\\\\DataEngineering\\\\project1\\\\project-template\\\\data\\\\song_data\\\\A\\\\A\\\\C\\\\TRAACZK128F4243829.json', 'C:\\\\Users\\\\sthoe09258\\\\OneDrive - Elekta\\\\Desktop\\\\udacity\\\\DataEngineering\\\\project1\\\\project-template\\\\data\\\\song_data\\\\A\\\\B\\\\A\\\\TRABACN128F425B784.json', 'C:\\\\Users\\\\sthoe09258\\\\OneDrive - Elekta\\\\Desktop\\\\udacity\\\\DataEngineering\\\\project1\\\\project-template\\\\data\\\\song_data\\\\A\\\\B\\\\A\\\\TRABAFJ128F42AF24E.json', 'C:\\\\Users\\\\sthoe09258\\\\OneDrive - Elekta\\\\Desktop\\\\udacity\\\\DataEngineering\\\\project1\\\\project-template\\\\data\\\\song_data\\\\A\\\\B\\\\A\\\\TRABAFP128F931E9A1.json', 'C:\\\\Users\\\\sthoe09258\\\\OneDrive - Elekta\\\\Desktop\\\\udacity\\\\DataEngineering\\\\project1\\\\project-template\\\\data\\\\song_data\\\\A\\\\B\\\\A\\\\TRABAIO128F42938F9.json', 'C:\\\\Users\\\\sthoe09258\\\\OneDrive - Elekta\\\\Desktop\\\\udacity\\\\DataEngineering\\\\project1\\\\project-template\\\\data\\\\song_data\\\\A\\\\B\\\\A\\\\TRABATO128F42627E9.json', 'C:\\\\Users\\\\sthoe09258\\\\OneDrive - Elekta\\\\Desktop\\\\udacity\\\\DataEngineering\\\\project1\\\\project-template\\\\data\\\\song_data\\\\A\\\\B\\\\A\\\\TRABAVQ12903CBF7E0.json', 'C:\\\\Users\\\\sthoe09258\\\\OneDrive - Elekta\\\\Desktop\\\\udacity\\\\DataEngineering\\\\project1\\\\project-template\\\\data\\\\song_data\\\\A\\\\B\\\\A\\\\TRABAWW128F4250A31.json', 'C:\\\\Users\\\\sthoe09258\\\\OneDrive - Elekta\\\\Desktop\\\\udacity\\\\DataEngineering\\\\project1\\\\project-template\\\\data\\\\song_data\\\\A\\\\B\\\\A\\\\TRABAXL128F424FC50.json', 'C:\\\\Users\\\\sthoe09258\\\\OneDrive - Elekta\\\\Desktop\\\\udacity\\\\DataEngineering\\\\project1\\\\project-template\\\\data\\\\song_data\\\\A\\\\B\\\\A\\\\TRABAXR128F426515F.json', 'C:\\\\Users\\\\sthoe09258\\\\OneDrive - Elekta\\\\Desktop\\\\udacity\\\\DataEngineering\\\\project1\\\\project-template\\\\data\\\\song_data\\\\A\\\\B\\\\A\\\\TRABAXV128F92F6AE3.json', 'C:\\\\Users\\\\sthoe09258\\\\OneDrive - Elekta\\\\Desktop\\\\udacity\\\\DataEngineering\\\\project1\\\\project-template\\\\data\\\\song_data\\\\A\\\\B\\\\A\\\\TRABAZH128F930419A.json', 'C:\\\\Users\\\\sthoe09258\\\\OneDrive - Elekta\\\\Desktop\\\\udacity\\\\DataEngineering\\\\project1\\\\project-template\\\\data\\\\song_data\\\\A\\\\B\\\\B\\\\TRABBAM128F429D223.json', 'C:\\\\Users\\\\sthoe09258\\\\OneDrive - Elekta\\\\Desktop\\\\udacity\\\\DataEngineering\\\\project1\\\\project-template\\\\data\\\\song_data\\\\A\\\\B\\\\B\\\\TRABBBV128F42967D7.json', 'C:\\\\Users\\\\sthoe09258\\\\OneDrive - Elekta\\\\Desktop\\\\udacity\\\\DataEngineering\\\\project1\\\\project-template\\\\data\\\\song_data\\\\A\\\\B\\\\B\\\\TRABBJE12903CDB442.json', 'C:\\\\Users\\\\sthoe09258\\\\OneDrive - Elekta\\\\Desktop\\\\udacity\\\\DataEngineering\\\\project1\\\\project-template\\\\data\\\\song_data\\\\A\\\\B\\\\B\\\\TRABBKX128F4285205.json', 'C:\\\\Users\\\\sthoe09258\\\\OneDrive - Elekta\\\\Desktop\\\\udacity\\\\DataEngineering\\\\project1\\\\project-template\\\\data\\\\song_data\\\\A\\\\B\\\\B\\\\TRABBLU128F93349CF.json', 'C:\\\\Users\\\\sthoe09258\\\\OneDrive - Elekta\\\\Desktop\\\\udacity\\\\DataEngineering\\\\project1\\\\project-template\\\\data\\\\song_data\\\\A\\\\B\\\\B\\\\TRABBNP128F932546F.json', 'C:\\\\Users\\\\sthoe09258\\\\OneDrive - Elekta\\\\Desktop\\\\udacity\\\\DataEngineering\\\\project1\\\\project-template\\\\data\\\\song_data\\\\A\\\\B\\\\B\\\\TRABBOP128F931B50D.json', 'C:\\\\Users\\\\sthoe09258\\\\OneDrive - Elekta\\\\Desktop\\\\udacity\\\\DataEngineering\\\\project1\\\\project-template\\\\data\\\\song_data\\\\A\\\\B\\\\B\\\\TRABBOR128F4286200.json', 'C:\\\\Users\\\\sthoe09258\\\\OneDrive - Elekta\\\\Desktop\\\\udacity\\\\DataEngineering\\\\project1\\\\project-template\\\\data\\\\song_data\\\\A\\\\B\\\\B\\\\TRABBTA128F933D304.json', 'C:\\\\Users\\\\sthoe09258\\\\OneDrive - Elekta\\\\Desktop\\\\udacity\\\\DataEngineering\\\\project1\\\\project-template\\\\data\\\\song_data\\\\A\\\\B\\\\B\\\\TRABBVJ128F92F7EAA.json', 'C:\\\\Users\\\\sthoe09258\\\\OneDrive - Elekta\\\\Desktop\\\\udacity\\\\DataEngineering\\\\project1\\\\project-template\\\\data\\\\song_data\\\\A\\\\B\\\\B\\\\TRABBXU128F92FEF48.json', 'C:\\\\Users\\\\sthoe09258\\\\OneDrive - Elekta\\\\Desktop\\\\udacity\\\\DataEngineering\\\\project1\\\\project-template\\\\data\\\\song_data\\\\A\\\\B\\\\B\\\\TRABBZN12903CD9297.json', 'C:\\\\Users\\\\sthoe09258\\\\OneDrive - Elekta\\\\Desktop\\\\udacity\\\\DataEngineering\\\\project1\\\\project-template\\\\data\\\\song_data\\\\A\\\\B\\\\C\\\\TRABCAJ12903CDFCC2.json', 'C:\\\\Users\\\\sthoe09258\\\\OneDrive - Elekta\\\\Desktop\\\\udacity\\\\DataEngineering\\\\project1\\\\project-template\\\\data\\\\song_data\\\\A\\\\B\\\\C\\\\TRABCEC128F426456E.json', 'C:\\\\Users\\\\sthoe09258\\\\OneDrive - Elekta\\\\Desktop\\\\udacity\\\\DataEngineering\\\\project1\\\\project-template\\\\data\\\\song_data\\\\A\\\\B\\\\C\\\\TRABCEI128F424C983.json', 'C:\\\\Users\\\\sthoe09258\\\\OneDrive - Elekta\\\\Desktop\\\\udacity\\\\DataEngineering\\\\project1\\\\project-template\\\\data\\\\song_data\\\\A\\\\B\\\\C\\\\TRABCFL128F149BB0D.json', 'C:\\\\Users\\\\sthoe09258\\\\OneDrive - Elekta\\\\Desktop\\\\udacity\\\\DataEngineering\\\\project1\\\\project-template\\\\data\\\\song_data\\\\A\\\\B\\\\C\\\\TRABCIX128F4265903.json', 'C:\\\\Users\\\\sthoe09258\\\\OneDrive - Elekta\\\\Desktop\\\\udacity\\\\DataEngineering\\\\project1\\\\project-template\\\\data\\\\song_data\\\\A\\\\B\\\\C\\\\TRABCKL128F423A778.json', 'C:\\\\Users\\\\sthoe09258\\\\OneDrive - Elekta\\\\Desktop\\\\udacity\\\\DataEngineering\\\\project1\\\\project-template\\\\data\\\\song_data\\\\A\\\\B\\\\C\\\\TRABCPZ128F4275C32.json', 'C:\\\\Users\\\\sthoe09258\\\\OneDrive - Elekta\\\\Desktop\\\\udacity\\\\DataEngineering\\\\project1\\\\project-template\\\\data\\\\song_data\\\\A\\\\B\\\\C\\\\TRABCRU128F423F449.json', 'C:\\\\Users\\\\sthoe09258\\\\OneDrive - Elekta\\\\Desktop\\\\udacity\\\\DataEngineering\\\\project1\\\\project-template\\\\data\\\\song_data\\\\A\\\\B\\\\C\\\\TRABCTK128F934B224.json', 'C:\\\\Users\\\\sthoe09258\\\\OneDrive - Elekta\\\\Desktop\\\\udacity\\\\DataEngineering\\\\project1\\\\project-template\\\\data\\\\song_data\\\\A\\\\B\\\\C\\\\TRABCUQ128E0783E2B.json', 'C:\\\\Users\\\\sthoe09258\\\\OneDrive - Elekta\\\\Desktop\\\\udacity\\\\DataEngineering\\\\project1\\\\project-template\\\\data\\\\song_data\\\\A\\\\B\\\\C\\\\TRABCXB128F4286BD3.json', 'C:\\\\Users\\\\sthoe09258\\\\OneDrive - Elekta\\\\Desktop\\\\udacity\\\\DataEngineering\\\\project1\\\\project-template\\\\data\\\\song_data\\\\A\\\\B\\\\C\\\\TRABCYE128F934CE1D.json']\n"
     ]
    }
   ],
   "source": [
    "song_files = get_files(\"data/song_data\")\n",
    "print(song_files)"
   ]
  },
  {
   "cell_type": "code",
   "execution_count": 214,
   "metadata": {
    "pycharm": {
     "name": "#%%\n"
    }
   },
   "outputs": [
    {
     "name": "stdout",
     "output_type": "stream",
     "text": [
      "C:\\Users\\sthoe09258\\OneDrive - Elekta\\Desktop\\udacity\\DataEngineering\\project1\\project-template\\data\\song_data\\A\\A\\A\\TRAAABD128F429CF47.json\n"
     ]
    }
   ],
   "source": [
    "filepath =  song_files[1]\n",
    "print(filepath)"
   ]
  },
  {
   "cell_type": "code",
   "execution_count": 215,
   "metadata": {
    "pycharm": {
     "name": "#%%\n"
    }
   },
   "outputs": [
    {
     "data": {
      "text/plain": "   num_songs           artist_id  artist_latitude  artist_longitude  \\\n0          1  ARMJAGH1187FB546F3         35.14968         -90.04892   \n\n  artist_location   artist_name             song_id      title   duration  \\\n0     Memphis, TN  The Box Tops  SOCIWDW12A8C13D406  Soul Deep  148.03546   \n\n   year  \n0  1969  ",
      "text/html": "<div>\n<style scoped>\n    .dataframe tbody tr th:only-of-type {\n        vertical-align: middle;\n    }\n\n    .dataframe tbody tr th {\n        vertical-align: top;\n    }\n\n    .dataframe thead th {\n        text-align: right;\n    }\n</style>\n<table border=\"1\" class=\"dataframe\">\n  <thead>\n    <tr style=\"text-align: right;\">\n      <th></th>\n      <th>num_songs</th>\n      <th>artist_id</th>\n      <th>artist_latitude</th>\n      <th>artist_longitude</th>\n      <th>artist_location</th>\n      <th>artist_name</th>\n      <th>song_id</th>\n      <th>title</th>\n      <th>duration</th>\n      <th>year</th>\n    </tr>\n  </thead>\n  <tbody>\n    <tr>\n      <th>0</th>\n      <td>1</td>\n      <td>ARMJAGH1187FB546F3</td>\n      <td>35.14968</td>\n      <td>-90.04892</td>\n      <td>Memphis, TN</td>\n      <td>The Box Tops</td>\n      <td>SOCIWDW12A8C13D406</td>\n      <td>Soul Deep</td>\n      <td>148.03546</td>\n      <td>1969</td>\n    </tr>\n  </tbody>\n</table>\n</div>"
     },
     "execution_count": 215,
     "metadata": {},
     "output_type": "execute_result"
    }
   ],
   "source": [
    "#df = pd.read_json(filepath, typ='series')\n",
    "df = pd.read_json(filepath, lines=True)\n",
    "df.head()"
   ]
  },
  {
   "cell_type": "markdown",
   "metadata": {
    "pycharm": {
     "name": "#%% md\n"
    }
   },
   "source": [
    "## #1: `songs` Table\n",
    "#### Extract Data for Songs Table\n",
    "- Select columns for song ID, title, artist ID, year, and duration\n",
    "- Use `df.values` to select just the values from the dataframe\n",
    "- Index to select the first (only) record in the dataframe\n",
    "- Convert the array to a list and set it to `song_data`"
   ]
  },
  {
   "cell_type": "code",
   "execution_count": 216,
   "metadata": {
    "pycharm": {
     "name": "#%%\n"
    }
   },
   "outputs": [
    {
     "data": {
      "text/plain": "array(['SOCIWDW12A8C13D406', 'Soul Deep', 'ARMJAGH1187FB546F3', 1969,\n       148.03546], dtype=object)"
     },
     "execution_count": 216,
     "metadata": {},
     "output_type": "execute_result"
    }
   ],
   "source": [
    "song_data = df[['song_id', 'title', 'artist_id', 'year', 'duration']].values[0]\n",
    "song_data"
   ]
  },
  {
   "cell_type": "markdown",
   "metadata": {
    "pycharm": {
     "name": "#%% md\n"
    }
   },
   "source": [
    "#### Insert Record into Song Table\n",
    "Implement the `song_table_insert` query in `sql_queries.py` and run the cell below to insert a record for this song into the `songs` table. Remember to run `create_tables.py` before running the cell below to ensure you've created/resetted the `songs` table in the sparkify database."
   ]
  },
  {
   "cell_type": "code",
   "execution_count": 217,
   "metadata": {
    "pycharm": {
     "name": "#%%\n"
    }
   },
   "outputs": [],
   "source": [
    "song_table_insert = (\"\"\"INSERT INTO songs(song_id, title, artist_id, year, duration)\n",
    "VALUES(%s, %s, %s, %s, %s)\n",
    "\"\"\")\n",
    "song_table_insert\n",
    "cur.execute(song_table_insert, song_data)\n",
    "conn.commit()"
   ]
  },
  {
   "cell_type": "markdown",
   "metadata": {
    "pycharm": {
     "name": "#%% md\n"
    }
   },
   "source": [
    "Run `test.ipynb` to see if you've successfully added a record to this table."
   ]
  },
  {
   "cell_type": "markdown",
   "metadata": {
    "pycharm": {
     "name": "#%% md\n"
    }
   },
   "source": [
    "## #2: `artists` Table\n",
    "#### Extract Data for Artists Table\n",
    "- Select columns for artist ID, name, location, latitude, and longitude\n",
    "- Use `df.values` to select just the values from the dataframe\n",
    "- Index to select the first (only) record in the dataframe\n",
    "- Convert the array to a list and set it to `artist_data`"
   ]
  },
  {
   "cell_type": "code",
   "execution_count": 218,
   "metadata": {
    "pycharm": {
     "name": "#%%\n"
    }
   },
   "outputs": [
    {
     "data": {
      "text/plain": "array(['ARMJAGH1187FB546F3', 'The Box Tops', 'Memphis, TN', 35.14968,\n       -90.04892], dtype=object)"
     },
     "execution_count": 218,
     "metadata": {},
     "output_type": "execute_result"
    }
   ],
   "source": [
    "artist_data = df[['artist_id', 'artist_name', 'artist_location', 'artist_latitude', 'artist_longitude']].values[0]\n",
    "artist_data"
   ]
  },
  {
   "cell_type": "markdown",
   "metadata": {
    "pycharm": {
     "name": "#%% md\n"
    }
   },
   "source": [
    "#### Insert Record into Artist Table\n",
    "Implement the `artist_table_insert` query in `sql_queries.py` and run the cell below to insert a record for this song's artist into the `artists` table. Remember to run `create_tables.py` before running the cell below to ensure you've created/resetted the `artists` table in the sparkify database."
   ]
  },
  {
   "cell_type": "code",
   "execution_count": null,
   "metadata": {
    "pycharm": {
     "name": "#%%\n"
    }
   },
   "outputs": [],
   "source": [
    "artist_table_insert = \"\"\"INSERT INTO ARTISTS (artist_id ,name ,location , latitude ,longitude  ) VALUES(%s, %s,%s, %s,%s) ON CONFLICT (artist_id) DO NOTHING\"\"\"\n",
    "cur.execute(artist_table_insert, artist_data)\n",
    "conn.commit()"
   ]
  },
  {
   "cell_type": "markdown",
   "metadata": {
    "pycharm": {
     "name": "#%% md\n"
    }
   },
   "source": [
    "Run `test.ipynb` to see if you've successfully added a record to this table."
   ]
  },
  {
   "cell_type": "markdown",
   "metadata": {
    "pycharm": {
     "name": "#%% md\n"
    }
   },
   "source": [
    "# Process `log_data`\n",
    "In this part, you'll perform ETL on the second dataset, `log_data`, to create the `time` and `users` dimensional tables, as well as the `songplays` fact table.\n",
    "\n",
    "Let's perform ETL on a single log file and load a single record into each table.\n",
    "- Use the `get_files` function provided above to get a list of all log JSON files in `data/log_data`\n",
    "- Select the first log file in this list\n",
    "- Read the log file and view the data"
   ]
  },
  {
   "cell_type": "code",
   "execution_count": null,
   "metadata": {
    "pycharm": {
     "name": "#%%\n"
    }
   },
   "outputs": [],
   "source": [
    "log_files = get_files(\"data/log_data\")\n",
    "log_files"
   ]
  },
  {
   "cell_type": "code",
   "execution_count": null,
   "metadata": {
    "pycharm": {
     "name": "#%%\n"
    }
   },
   "outputs": [],
   "source": [
    "filepath = log_files[0]\n",
    "filepath"
   ]
  },
  {
   "cell_type": "code",
   "execution_count": null,
   "metadata": {
    "pycharm": {
     "name": "#%%\n"
    }
   },
   "outputs": [],
   "source": [
    "df = pd.read_json(filepath, lines=True )\n",
    "df.head()"
   ]
  },
  {
   "cell_type": "markdown",
   "metadata": {
    "pycharm": {
     "name": "#%% md\n"
    }
   },
   "source": [
    "## #3: `time` Table\n",
    "#### Extract Data for Time Table\n",
    "- Filter records by `NextSong` action\n",
    "- Convert the `ts` timestamp column to datetime\n",
    "  - Hint: the current timestamp is in milliseconds\n",
    "- Extract the timestamp, hour, day, week of year, month, year, and weekday from the `ts` column and set `time_data` to a list containing these values in order\n",
    "  - Hint: use pandas' [`dt` attribute](https://pandas.pydata.org/pandas-docs/stable/reference/api/pandas.Series.dt.html) to access easily datetimelike properties.\n",
    "- Specify labels for these columns and set to `column_labels`\n",
    "- Create a dataframe, `time_df,` containing the time data for this file by combining `column_labels` and `time_data` into a dictionary and converting this into a dataframe"
   ]
  },
  {
   "cell_type": "code",
   "execution_count": null,
   "metadata": {
    "pycharm": {
     "name": "#%%\n"
    }
   },
   "outputs": [],
   "source": [
    "df = df[df['page'] == 'NextSong']\n",
    "df.head()"
   ]
  },
  {
   "cell_type": "code",
   "execution_count": null,
   "metadata": {
    "pycharm": {
     "name": "#%%\n"
    }
   },
   "outputs": [],
   "source": [
    "t = pd.to_datetime(df['ts'], unit='ms')\n",
    "t.head()"
   ]
  },
  {
   "cell_type": "code",
   "execution_count": null,
   "metadata": {
    "pycharm": {
     "name": "#%%\n"
    }
   },
   "outputs": [],
   "source": [
    "time_data = pd.concat([t, t.dt.hour, t.dt.day, t.dt.isocalendar().week, t.dt.month, t.dt.year, t.dt.weekday], axis = 1)\n",
    "column_labels = ['start_time', 'hour', 'day', 'week', 'month', 'year', 'weekday']\n",
    "time_data.head()\n",
    "#column_labels = ()"
   ]
  },
  {
   "cell_type": "code",
   "execution_count": null,
   "metadata": {
    "pycharm": {
     "name": "#%%\n"
    }
   },
   "outputs": [],
   "source": [
    "time_df = pd.DataFrame(data=time_data.values, columns=column_labels)\n",
    "time_df.head()"
   ]
  },
  {
   "cell_type": "markdown",
   "metadata": {
    "pycharm": {
     "name": "#%% md\n"
    }
   },
   "source": [
    "#### Insert Records into Time Table\n",
    "Implement the `time_table_insert` query in `sql_queries.py` and run the cell below to insert records for the timestamps in this log file into the `time` table. Remember to run `create_tables.py` before running the cell below to ensure you've created/resetted the `time` table in the sparkify database."
   ]
  },
  {
   "cell_type": "code",
   "execution_count": null,
   "metadata": {
    "pycharm": {
     "name": "#%%\n"
    }
   },
   "outputs": [],
   "source": [
    "time_table_insert = (\"\"\"\n",
    "INSERT INTO time(start_time, hour, day, week, month, year, weekday)\n",
    "VALUES(%s, %s, %s, %s, %s, %s, %s)\n",
    "ON CONFLICT (start_time) DO NOTHING\n",
    "\"\"\")\n",
    "\n",
    "for i, row in time_df.iterrows():\n",
    "    cur.execute(time_table_insert, list(row))\n",
    "    conn.commit()"
   ]
  },
  {
   "cell_type": "markdown",
   "source": [],
   "metadata": {
    "collapsed": false,
    "pycharm": {
     "name": "#%% md\n"
    }
   }
  },
  {
   "cell_type": "markdown",
   "metadata": {
    "pycharm": {
     "name": "#%% md\n"
    }
   },
   "source": [
    "Run `test.ipynb` to see if you've successfully added records to this table."
   ]
  },
  {
   "cell_type": "markdown",
   "metadata": {
    "pycharm": {
     "name": "#%% md\n"
    }
   },
   "source": [
    "## #4: `users` Table\n",
    "#### Extract Data for Users Table\n",
    "- Select columns for user ID, first name, last name, gender and level and set to `user_df`"
   ]
  },
  {
   "cell_type": "code",
   "execution_count": null,
   "metadata": {
    "pycharm": {
     "name": "#%%\n"
    }
   },
   "outputs": [],
   "source": [
    "user_df = df[['userId', 'firstName', 'lastName', 'gender', 'level']]\n",
    "user_df.head()"
   ]
  },
  {
   "cell_type": "markdown",
   "metadata": {
    "pycharm": {
     "name": "#%% md\n"
    }
   },
   "source": [
    "#### Insert Records into Users Table\n",
    "Implement the `user_table_insert` query in `sql_queries.py` and run the cell below to insert records for the users in this log file into the `users` table. Remember to run `create_tables.py` before running the cell below to ensure you've created/resetted the `users` table in the sparkify database."
   ]
  },
  {
   "cell_type": "code",
   "execution_count": null,
   "metadata": {
    "pycharm": {
     "name": "#%%\n"
    }
   },
   "outputs": [],
   "source": [
    "user_table_insert = (\"\"\"\n",
    "INSERT INTO users(user_id, first_name, last_name, gender, level)\n",
    "VALUES(%s, %s, %s, %s, %s)\n",
    "ON CONFLICT (user_id) DO UPDATE set level = EXCLUDED.level\n",
    "\"\"\")\n",
    "for i, row in user_df.iterrows():\n",
    "    cur.execute(user_table_insert, row)\n",
    "    conn.commit()"
   ]
  },
  {
   "cell_type": "markdown",
   "metadata": {
    "pycharm": {
     "name": "#%% md\n"
    }
   },
   "source": [
    "Run `test.ipynb` to see if you've successfully added records to this table."
   ]
  },
  {
   "cell_type": "markdown",
   "metadata": {
    "pycharm": {
     "name": "#%% md\n"
    }
   },
   "source": [
    "## #5: `songplays` Table\n",
    "#### Extract Data and Songplays Table\n",
    "This one is a little more complicated since information from the songs table, artists table, and original log file are all needed for the `songplays` table. Since the log file does not specify an ID for either the song or the artist, you'll need to get the song ID and artist ID by querying the songs and artists tables to find matches based on song title, artist name, and song duration time.\n",
    "- Implement the `song_select` query in `sql_queries.py` to find the song ID and artist ID based on the title, artist name, and duration of a song.\n",
    "- Select the timestamp, user ID, level, song ID, artist ID, session ID, location, and user agent and set to `songplay_data`\n",
    "\n",
    "#### Insert Records into Songplays Table\n",
    "- Implement the `songplay_table_insert` query and run the cell below to insert records for the songplay actions in this log file into the `songplays` table. Remember to run `create_tables.py` before running the cell below to ensure you've created/resetted the `songplays` table in the sparkify database."
   ]
  },
  {
   "cell_type": "code",
   "execution_count": null,
   "metadata": {
    "pycharm": {
     "name": "#%%\n"
    }
   },
   "outputs": [],
   "source": [
    "song_select = \"\"\"select s.song_id songid, s.artist_id artistid from songs s inner join artists a on s.artist_id = a.artist_id where s.title = %s and a.name = %s and s.duration = %s\"\"\"\n",
    "songplay_table_insert = \"\"\"INSERT INTO songplays(start_time,user_id,level,song_id,artist_id,session_id,location,user_agent) VALUES(%s, %s, %s, %s, %s, %s, %s, %s)\"\"\"\n",
    "\n",
    "\n",
    "for index, row in df.iterrows():\n",
    "\n",
    "    # get songid and artistid from song and artist tables\n",
    "    cur.execute(song_select, (row.song, row.artist, row.length))\n",
    "    results = cur.fetchone()\n",
    "    \n",
    "    if results:\n",
    "        songid, artistid = results\n",
    "    else:\n",
    "        songid, artistid = None, None\n",
    "\n",
    "    # insert songplay record\n",
    "    # insert songplay record\n",
    "    songplay_data = (pd.to_datetime(row.ts, unit='ms'), row.userId, row.level, songid, artistid, row.sessionId, row.location, row.userAgent)\n",
    "    cur.execute(songplay_table_insert, songplay_data)\n",
    "    conn.commit()"
   ]
  },
  {
   "cell_type": "markdown",
   "metadata": {
    "pycharm": {
     "name": "#%% md\n"
    }
   },
   "source": [
    "Run `test.ipynb` to see if you've successfully added records to this table."
   ]
  },
  {
   "cell_type": "markdown",
   "metadata": {
    "pycharm": {
     "name": "#%% md\n"
    }
   },
   "source": [
    "# Close Connection to Sparkify Database"
   ]
  },
  {
   "cell_type": "code",
   "execution_count": null,
   "metadata": {
    "pycharm": {
     "name": "#%%\n"
    }
   },
   "outputs": [],
   "source": [
    "conn.close()"
   ]
  },
  {
   "cell_type": "markdown",
   "metadata": {
    "pycharm": {
     "name": "#%% md\n"
    }
   },
   "source": [
    "# Implement `etl.py`\n",
    "Use what you've completed in this notebook to implement `etl.py`."
   ]
  },
  {
   "cell_type": "code",
   "execution_count": null,
   "metadata": {
    "pycharm": {
     "name": "#%%\n"
    }
   },
   "outputs": [],
   "source": []
  }
 ],
 "metadata": {
  "kernelspec": {
   "display_name": "Python 3",
   "language": "python",
   "name": "python3"
  },
  "language_info": {
   "codemirror_mode": {
    "name": "ipython",
    "version": 3
   },
   "file_extension": ".py",
   "mimetype": "text/x-python",
   "name": "python",
   "nbconvert_exporter": "python",
   "pygments_lexer": "ipython3",
   "version": "3.6.3"
  }
 },
 "nbformat": 4,
 "nbformat_minor": 2
}