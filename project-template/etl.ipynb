{
 "cells": [
  {
   "cell_type": "markdown",
   "metadata": {
    "pycharm": {
     "name": "#%% md\n"
    }
   },
   "source": [
    "# ETL Processes\n",
    "Use this notebook to develop the ETL process for each of your tables before completing the `etl.py` file to load the whole datasets."
   ]
  },
  {
   "cell_type": "code",
   "execution_count": 18,
   "metadata": {
    "pycharm": {
     "name": "#%%\n"
    }
   },
   "outputs": [],
   "source": [
    "import os\n",
    "import glob\n",
    "import psycopg2\n",
    "import pandas as pd\n",
    "from sql_queries import *"
   ]
  },
  {
   "cell_type": "code",
   "execution_count": 19,
   "metadata": {
    "pycharm": {
     "name": "#%%\n"
    }
   },
   "outputs": [],
   "source": [
    "conn = psycopg2.connect(\"host=127.0.0.1 dbname=sparkifydb user=postgres password=postgres\")\n",
    "cur = conn.cursor()"
   ]
  },
  {
   "cell_type": "code",
   "execution_count": 20,
   "metadata": {
    "pycharm": {
     "name": "#%%\n"
    }
   },
   "outputs": [],
   "source": [
    "def get_files(filepath):\n",
    "    all_files = []\n",
    "    for root, dirs, files in os.walk(filepath):\n",
    "        files = glob.glob(os.path.join(root,'*.json'))\n",
    "        for f in files :\n",
    "            all_files.append(os.path.abspath(f))\n",
    "    return all_files"
   ]
  },
  {
   "cell_type": "markdown",
   "metadata": {
    "pycharm": {
     "name": "#%% md\n"
    }
   },
   "source": [
    "# Process `song_data`\n",
    "In this first part, you'll perform ETL on the first dataset, `song_data`, to create the `songs` and `artists` dimensional tables.\n",
    "\n",
    "Let's perform ETL on a single song file and load a single record into each table to start.\n",
    "- Use the `get_files` function provided above to get a list of all song JSON files in `data/song_data`\n",
    "- Select the first song in this list\n",
    "- Read the song file and view the data"
   ]
  },
  {
   "cell_type": "code",
   "execution_count": 21,
   "metadata": {
    "pycharm": {
     "name": "#%%\n"
    }
   },
   "outputs": [
    {
     "name": "stdout",
     "output_type": "stream",
     "text": [
      "['C:\\\\Users\\\\sthoe09258\\\\OneDrive - Elekta\\\\Desktop\\\\udacity\\\\DataEngineering\\\\project1\\\\project-template\\\\data\\\\song_data\\\\A\\\\A\\\\A\\\\TRAAAAW128F429D538.json', 'C:\\\\Users\\\\sthoe09258\\\\OneDrive - Elekta\\\\Desktop\\\\udacity\\\\DataEngineering\\\\project1\\\\project-template\\\\data\\\\song_data\\\\A\\\\A\\\\A\\\\TRAAABD128F429CF47.json', 'C:\\\\Users\\\\sthoe09258\\\\OneDrive - Elekta\\\\Desktop\\\\udacity\\\\DataEngineering\\\\project1\\\\project-template\\\\data\\\\song_data\\\\A\\\\A\\\\A\\\\TRAAADZ128F9348C2E.json', 'C:\\\\Users\\\\sthoe09258\\\\OneDrive - Elekta\\\\Desktop\\\\udacity\\\\DataEngineering\\\\project1\\\\project-template\\\\data\\\\song_data\\\\A\\\\A\\\\A\\\\TRAAAEF128F4273421.json', 'C:\\\\Users\\\\sthoe09258\\\\OneDrive - Elekta\\\\Desktop\\\\udacity\\\\DataEngineering\\\\project1\\\\project-template\\\\data\\\\song_data\\\\A\\\\A\\\\A\\\\TRAAAFD128F92F423A.json', 'C:\\\\Users\\\\sthoe09258\\\\OneDrive - Elekta\\\\Desktop\\\\udacity\\\\DataEngineering\\\\project1\\\\project-template\\\\data\\\\song_data\\\\A\\\\A\\\\A\\\\TRAAAMO128F1481E7F.json', 'C:\\\\Users\\\\sthoe09258\\\\OneDrive - Elekta\\\\Desktop\\\\udacity\\\\DataEngineering\\\\project1\\\\project-template\\\\data\\\\song_data\\\\A\\\\A\\\\A\\\\TRAAAMQ128F1460CD3.json', 'C:\\\\Users\\\\sthoe09258\\\\OneDrive - Elekta\\\\Desktop\\\\udacity\\\\DataEngineering\\\\project1\\\\project-template\\\\data\\\\song_data\\\\A\\\\A\\\\A\\\\TRAAAPK128E0786D96.json', 'C:\\\\Users\\\\sthoe09258\\\\OneDrive - Elekta\\\\Desktop\\\\udacity\\\\DataEngineering\\\\project1\\\\project-template\\\\data\\\\song_data\\\\A\\\\A\\\\A\\\\TRAAARJ128F9320760.json', 'C:\\\\Users\\\\sthoe09258\\\\OneDrive - Elekta\\\\Desktop\\\\udacity\\\\DataEngineering\\\\project1\\\\project-template\\\\data\\\\song_data\\\\A\\\\A\\\\A\\\\TRAAAVG12903CFA543.json', 'C:\\\\Users\\\\sthoe09258\\\\OneDrive - Elekta\\\\Desktop\\\\udacity\\\\DataEngineering\\\\project1\\\\project-template\\\\data\\\\song_data\\\\A\\\\A\\\\A\\\\TRAAAVO128F93133D4.json', 'C:\\\\Users\\\\sthoe09258\\\\OneDrive - Elekta\\\\Desktop\\\\udacity\\\\DataEngineering\\\\project1\\\\project-template\\\\data\\\\song_data\\\\A\\\\A\\\\B\\\\TRAABCL128F4286650.json', 'C:\\\\Users\\\\sthoe09258\\\\OneDrive - Elekta\\\\Desktop\\\\udacity\\\\DataEngineering\\\\project1\\\\project-template\\\\data\\\\song_data\\\\A\\\\A\\\\B\\\\TRAABDL12903CAABBA.json', 'C:\\\\Users\\\\sthoe09258\\\\OneDrive - Elekta\\\\Desktop\\\\udacity\\\\DataEngineering\\\\project1\\\\project-template\\\\data\\\\song_data\\\\A\\\\A\\\\B\\\\TRAABJL12903CDCF1A.json', 'C:\\\\Users\\\\sthoe09258\\\\OneDrive - Elekta\\\\Desktop\\\\udacity\\\\DataEngineering\\\\project1\\\\project-template\\\\data\\\\song_data\\\\A\\\\A\\\\B\\\\TRAABJV128F1460C49.json', 'C:\\\\Users\\\\sthoe09258\\\\OneDrive - Elekta\\\\Desktop\\\\udacity\\\\DataEngineering\\\\project1\\\\project-template\\\\data\\\\song_data\\\\A\\\\A\\\\B\\\\TRAABLR128F423B7E3.json', 'C:\\\\Users\\\\sthoe09258\\\\OneDrive - Elekta\\\\Desktop\\\\udacity\\\\DataEngineering\\\\project1\\\\project-template\\\\data\\\\song_data\\\\A\\\\A\\\\B\\\\TRAABNV128F425CEE1.json', 'C:\\\\Users\\\\sthoe09258\\\\OneDrive - Elekta\\\\Desktop\\\\udacity\\\\DataEngineering\\\\project1\\\\project-template\\\\data\\\\song_data\\\\A\\\\A\\\\B\\\\TRAABRB128F9306DD5.json', 'C:\\\\Users\\\\sthoe09258\\\\OneDrive - Elekta\\\\Desktop\\\\udacity\\\\DataEngineering\\\\project1\\\\project-template\\\\data\\\\song_data\\\\A\\\\A\\\\B\\\\TRAABVM128F92CA9DC.json', 'C:\\\\Users\\\\sthoe09258\\\\OneDrive - Elekta\\\\Desktop\\\\udacity\\\\DataEngineering\\\\project1\\\\project-template\\\\data\\\\song_data\\\\A\\\\A\\\\B\\\\TRAABXG128F9318EBD.json', 'C:\\\\Users\\\\sthoe09258\\\\OneDrive - Elekta\\\\Desktop\\\\udacity\\\\DataEngineering\\\\project1\\\\project-template\\\\data\\\\song_data\\\\A\\\\A\\\\B\\\\TRAABYN12903CFD305.json', 'C:\\\\Users\\\\sthoe09258\\\\OneDrive - Elekta\\\\Desktop\\\\udacity\\\\DataEngineering\\\\project1\\\\project-template\\\\data\\\\song_data\\\\A\\\\A\\\\B\\\\TRAABYW128F4244559.json', 'C:\\\\Users\\\\sthoe09258\\\\OneDrive - Elekta\\\\Desktop\\\\udacity\\\\DataEngineering\\\\project1\\\\project-template\\\\data\\\\song_data\\\\A\\\\A\\\\C\\\\TRAACCG128F92E8A55.json', 'C:\\\\Users\\\\sthoe09258\\\\OneDrive - Elekta\\\\Desktop\\\\udacity\\\\DataEngineering\\\\project1\\\\project-template\\\\data\\\\song_data\\\\A\\\\A\\\\C\\\\TRAACER128F4290F96.json', 'C:\\\\Users\\\\sthoe09258\\\\OneDrive - Elekta\\\\Desktop\\\\udacity\\\\DataEngineering\\\\project1\\\\project-template\\\\data\\\\song_data\\\\A\\\\A\\\\C\\\\TRAACFV128F935E50B.json', 'C:\\\\Users\\\\sthoe09258\\\\OneDrive - Elekta\\\\Desktop\\\\udacity\\\\DataEngineering\\\\project1\\\\project-template\\\\data\\\\song_data\\\\A\\\\A\\\\C\\\\TRAACHN128F1489601.json', 'C:\\\\Users\\\\sthoe09258\\\\OneDrive - Elekta\\\\Desktop\\\\udacity\\\\DataEngineering\\\\project1\\\\project-template\\\\data\\\\song_data\\\\A\\\\A\\\\C\\\\TRAACIW12903CC0F6D.json', 'C:\\\\Users\\\\sthoe09258\\\\OneDrive - Elekta\\\\Desktop\\\\udacity\\\\DataEngineering\\\\project1\\\\project-template\\\\data\\\\song_data\\\\A\\\\A\\\\C\\\\TRAACLV128F427E123.json', 'C:\\\\Users\\\\sthoe09258\\\\OneDrive - Elekta\\\\Desktop\\\\udacity\\\\DataEngineering\\\\project1\\\\project-template\\\\data\\\\song_data\\\\A\\\\A\\\\C\\\\TRAACNS128F14A2DF5.json', 'C:\\\\Users\\\\sthoe09258\\\\OneDrive - Elekta\\\\Desktop\\\\udacity\\\\DataEngineering\\\\project1\\\\project-template\\\\data\\\\song_data\\\\A\\\\A\\\\C\\\\TRAACOW128F933E35F.json', 'C:\\\\Users\\\\sthoe09258\\\\OneDrive - Elekta\\\\Desktop\\\\udacity\\\\DataEngineering\\\\project1\\\\project-template\\\\data\\\\song_data\\\\A\\\\A\\\\C\\\\TRAACPE128F421C1B9.json', 'C:\\\\Users\\\\sthoe09258\\\\OneDrive - Elekta\\\\Desktop\\\\udacity\\\\DataEngineering\\\\project1\\\\project-template\\\\data\\\\song_data\\\\A\\\\A\\\\C\\\\TRAACQT128F9331780.json', 'C:\\\\Users\\\\sthoe09258\\\\OneDrive - Elekta\\\\Desktop\\\\udacity\\\\DataEngineering\\\\project1\\\\project-template\\\\data\\\\song_data\\\\A\\\\A\\\\C\\\\TRAACSL128F93462F4.json', 'C:\\\\Users\\\\sthoe09258\\\\OneDrive - Elekta\\\\Desktop\\\\udacity\\\\DataEngineering\\\\project1\\\\project-template\\\\data\\\\song_data\\\\A\\\\A\\\\C\\\\TRAACTB12903CAAF15.json', 'C:\\\\Users\\\\sthoe09258\\\\OneDrive - Elekta\\\\Desktop\\\\udacity\\\\DataEngineering\\\\project1\\\\project-template\\\\data\\\\song_data\\\\A\\\\A\\\\C\\\\TRAACVS128E078BE39.json', 'C:\\\\Users\\\\sthoe09258\\\\OneDrive - Elekta\\\\Desktop\\\\udacity\\\\DataEngineering\\\\project1\\\\project-template\\\\data\\\\song_data\\\\A\\\\A\\\\C\\\\TRAACZK128F4243829.json', 'C:\\\\Users\\\\sthoe09258\\\\OneDrive - Elekta\\\\Desktop\\\\udacity\\\\DataEngineering\\\\project1\\\\project-template\\\\data\\\\song_data\\\\A\\\\B\\\\A\\\\TRABACN128F425B784.json', 'C:\\\\Users\\\\sthoe09258\\\\OneDrive - Elekta\\\\Desktop\\\\udacity\\\\DataEngineering\\\\project1\\\\project-template\\\\data\\\\song_data\\\\A\\\\B\\\\A\\\\TRABAFJ128F42AF24E.json', 'C:\\\\Users\\\\sthoe09258\\\\OneDrive - Elekta\\\\Desktop\\\\udacity\\\\DataEngineering\\\\project1\\\\project-template\\\\data\\\\song_data\\\\A\\\\B\\\\A\\\\TRABAFP128F931E9A1.json', 'C:\\\\Users\\\\sthoe09258\\\\OneDrive - Elekta\\\\Desktop\\\\udacity\\\\DataEngineering\\\\project1\\\\project-template\\\\data\\\\song_data\\\\A\\\\B\\\\A\\\\TRABAIO128F42938F9.json', 'C:\\\\Users\\\\sthoe09258\\\\OneDrive - Elekta\\\\Desktop\\\\udacity\\\\DataEngineering\\\\project1\\\\project-template\\\\data\\\\song_data\\\\A\\\\B\\\\A\\\\TRABATO128F42627E9.json', 'C:\\\\Users\\\\sthoe09258\\\\OneDrive - Elekta\\\\Desktop\\\\udacity\\\\DataEngineering\\\\project1\\\\project-template\\\\data\\\\song_data\\\\A\\\\B\\\\A\\\\TRABAVQ12903CBF7E0.json', 'C:\\\\Users\\\\sthoe09258\\\\OneDrive - Elekta\\\\Desktop\\\\udacity\\\\DataEngineering\\\\project1\\\\project-template\\\\data\\\\song_data\\\\A\\\\B\\\\A\\\\TRABAWW128F4250A31.json', 'C:\\\\Users\\\\sthoe09258\\\\OneDrive - Elekta\\\\Desktop\\\\udacity\\\\DataEngineering\\\\project1\\\\project-template\\\\data\\\\song_data\\\\A\\\\B\\\\A\\\\TRABAXL128F424FC50.json', 'C:\\\\Users\\\\sthoe09258\\\\OneDrive - Elekta\\\\Desktop\\\\udacity\\\\DataEngineering\\\\project1\\\\project-template\\\\data\\\\song_data\\\\A\\\\B\\\\A\\\\TRABAXR128F426515F.json', 'C:\\\\Users\\\\sthoe09258\\\\OneDrive - Elekta\\\\Desktop\\\\udacity\\\\DataEngineering\\\\project1\\\\project-template\\\\data\\\\song_data\\\\A\\\\B\\\\A\\\\TRABAXV128F92F6AE3.json', 'C:\\\\Users\\\\sthoe09258\\\\OneDrive - Elekta\\\\Desktop\\\\udacity\\\\DataEngineering\\\\project1\\\\project-template\\\\data\\\\song_data\\\\A\\\\B\\\\A\\\\TRABAZH128F930419A.json', 'C:\\\\Users\\\\sthoe09258\\\\OneDrive - Elekta\\\\Desktop\\\\udacity\\\\DataEngineering\\\\project1\\\\project-template\\\\data\\\\song_data\\\\A\\\\B\\\\B\\\\TRABBAM128F429D223.json', 'C:\\\\Users\\\\sthoe09258\\\\OneDrive - Elekta\\\\Desktop\\\\udacity\\\\DataEngineering\\\\project1\\\\project-template\\\\data\\\\song_data\\\\A\\\\B\\\\B\\\\TRABBBV128F42967D7.json', 'C:\\\\Users\\\\sthoe09258\\\\OneDrive - Elekta\\\\Desktop\\\\udacity\\\\DataEngineering\\\\project1\\\\project-template\\\\data\\\\song_data\\\\A\\\\B\\\\B\\\\TRABBJE12903CDB442.json', 'C:\\\\Users\\\\sthoe09258\\\\OneDrive - Elekta\\\\Desktop\\\\udacity\\\\DataEngineering\\\\project1\\\\project-template\\\\data\\\\song_data\\\\A\\\\B\\\\B\\\\TRABBKX128F4285205.json', 'C:\\\\Users\\\\sthoe09258\\\\OneDrive - Elekta\\\\Desktop\\\\udacity\\\\DataEngineering\\\\project1\\\\project-template\\\\data\\\\song_data\\\\A\\\\B\\\\B\\\\TRABBLU128F93349CF.json', 'C:\\\\Users\\\\sthoe09258\\\\OneDrive - Elekta\\\\Desktop\\\\udacity\\\\DataEngineering\\\\project1\\\\project-template\\\\data\\\\song_data\\\\A\\\\B\\\\B\\\\TRABBNP128F932546F.json', 'C:\\\\Users\\\\sthoe09258\\\\OneDrive - Elekta\\\\Desktop\\\\udacity\\\\DataEngineering\\\\project1\\\\project-template\\\\data\\\\song_data\\\\A\\\\B\\\\B\\\\TRABBOP128F931B50D.json', 'C:\\\\Users\\\\sthoe09258\\\\OneDrive - Elekta\\\\Desktop\\\\udacity\\\\DataEngineering\\\\project1\\\\project-template\\\\data\\\\song_data\\\\A\\\\B\\\\B\\\\TRABBOR128F4286200.json', 'C:\\\\Users\\\\sthoe09258\\\\OneDrive - Elekta\\\\Desktop\\\\udacity\\\\DataEngineering\\\\project1\\\\project-template\\\\data\\\\song_data\\\\A\\\\B\\\\B\\\\TRABBTA128F933D304.json', 'C:\\\\Users\\\\sthoe09258\\\\OneDrive - Elekta\\\\Desktop\\\\udacity\\\\DataEngineering\\\\project1\\\\project-template\\\\data\\\\song_data\\\\A\\\\B\\\\B\\\\TRABBVJ128F92F7EAA.json', 'C:\\\\Users\\\\sthoe09258\\\\OneDrive - Elekta\\\\Desktop\\\\udacity\\\\DataEngineering\\\\project1\\\\project-template\\\\data\\\\song_data\\\\A\\\\B\\\\B\\\\TRABBXU128F92FEF48.json', 'C:\\\\Users\\\\sthoe09258\\\\OneDrive - Elekta\\\\Desktop\\\\udacity\\\\DataEngineering\\\\project1\\\\project-template\\\\data\\\\song_data\\\\A\\\\B\\\\B\\\\TRABBZN12903CD9297.json', 'C:\\\\Users\\\\sthoe09258\\\\OneDrive - Elekta\\\\Desktop\\\\udacity\\\\DataEngineering\\\\project1\\\\project-template\\\\data\\\\song_data\\\\A\\\\B\\\\C\\\\TRABCAJ12903CDFCC2.json', 'C:\\\\Users\\\\sthoe09258\\\\OneDrive - Elekta\\\\Desktop\\\\udacity\\\\DataEngineering\\\\project1\\\\project-template\\\\data\\\\song_data\\\\A\\\\B\\\\C\\\\TRABCEC128F426456E.json', 'C:\\\\Users\\\\sthoe09258\\\\OneDrive - Elekta\\\\Desktop\\\\udacity\\\\DataEngineering\\\\project1\\\\project-template\\\\data\\\\song_data\\\\A\\\\B\\\\C\\\\TRABCEI128F424C983.json', 'C:\\\\Users\\\\sthoe09258\\\\OneDrive - Elekta\\\\Desktop\\\\udacity\\\\DataEngineering\\\\project1\\\\project-template\\\\data\\\\song_data\\\\A\\\\B\\\\C\\\\TRABCFL128F149BB0D.json', 'C:\\\\Users\\\\sthoe09258\\\\OneDrive - Elekta\\\\Desktop\\\\udacity\\\\DataEngineering\\\\project1\\\\project-template\\\\data\\\\song_data\\\\A\\\\B\\\\C\\\\TRABCIX128F4265903.json', 'C:\\\\Users\\\\sthoe09258\\\\OneDrive - Elekta\\\\Desktop\\\\udacity\\\\DataEngineering\\\\project1\\\\project-template\\\\data\\\\song_data\\\\A\\\\B\\\\C\\\\TRABCKL128F423A778.json', 'C:\\\\Users\\\\sthoe09258\\\\OneDrive - Elekta\\\\Desktop\\\\udacity\\\\DataEngineering\\\\project1\\\\project-template\\\\data\\\\song_data\\\\A\\\\B\\\\C\\\\TRABCPZ128F4275C32.json', 'C:\\\\Users\\\\sthoe09258\\\\OneDrive - Elekta\\\\Desktop\\\\udacity\\\\DataEngineering\\\\project1\\\\project-template\\\\data\\\\song_data\\\\A\\\\B\\\\C\\\\TRABCRU128F423F449.json', 'C:\\\\Users\\\\sthoe09258\\\\OneDrive - Elekta\\\\Desktop\\\\udacity\\\\DataEngineering\\\\project1\\\\project-template\\\\data\\\\song_data\\\\A\\\\B\\\\C\\\\TRABCTK128F934B224.json', 'C:\\\\Users\\\\sthoe09258\\\\OneDrive - Elekta\\\\Desktop\\\\udacity\\\\DataEngineering\\\\project1\\\\project-template\\\\data\\\\song_data\\\\A\\\\B\\\\C\\\\TRABCUQ128E0783E2B.json', 'C:\\\\Users\\\\sthoe09258\\\\OneDrive - Elekta\\\\Desktop\\\\udacity\\\\DataEngineering\\\\project1\\\\project-template\\\\data\\\\song_data\\\\A\\\\B\\\\C\\\\TRABCXB128F4286BD3.json', 'C:\\\\Users\\\\sthoe09258\\\\OneDrive - Elekta\\\\Desktop\\\\udacity\\\\DataEngineering\\\\project1\\\\project-template\\\\data\\\\song_data\\\\A\\\\B\\\\C\\\\TRABCYE128F934CE1D.json']\n"
     ]
    }
   ],
   "source": [
    "song_files = get_files(\"data/song_data\")\n",
    "print(song_files)"
   ]
  },
  {
   "cell_type": "code",
   "execution_count": 22,
   "metadata": {
    "pycharm": {
     "name": "#%%\n"
    }
   },
   "outputs": [
    {
     "name": "stdout",
     "output_type": "stream",
     "text": [
      "C:\\Users\\sthoe09258\\OneDrive - Elekta\\Desktop\\udacity\\DataEngineering\\project1\\project-template\\data\\song_data\\A\\A\\A\\TRAAABD128F429CF47.json\n"
     ]
    }
   ],
   "source": [
    "filepath =  song_files[1]\n",
    "print(filepath)"
   ]
  },
  {
   "cell_type": "code",
   "execution_count": 23,
   "metadata": {
    "pycharm": {
     "name": "#%%\n"
    }
   },
   "outputs": [
    {
     "data": {
      "text/plain": "num_songs                            1\nartist_id           ARMJAGH1187FB546F3\nartist_latitude               35.14968\nartist_longitude             -90.04892\nartist_location            Memphis, TN\nartist_name               The Box Tops\nsong_id             SOCIWDW12A8C13D406\ntitle                        Soul Deep\nduration                     148.03546\nyear                              1969\ndtype: object"
     },
     "execution_count": 23,
     "metadata": {},
     "output_type": "execute_result"
    }
   ],
   "source": [
    "df = pd.read_json(filepath, typ='series')\n",
    "df"
   ]
  },
  {
   "cell_type": "markdown",
   "metadata": {
    "pycharm": {
     "name": "#%% md\n"
    }
   },
   "source": [
    "## #1: `songs` Table\n",
    "#### Extract Data for Songs Table\n",
    "- Select columns for song ID, title, artist ID, year, and duration\n",
    "- Use `df.values` to select just the values from the dataframe\n",
    "- Index to select the first (only) record in the dataframe\n",
    "- Convert the array to a list and set it to `song_data`"
   ]
  },
  {
   "cell_type": "code",
   "execution_count": 8,
   "metadata": {
    "pycharm": {
     "name": "#%%\n"
    }
   },
   "outputs": [],
   "source": [
    "song_data = df\n",
    "#song_data = list(song_data)[:1]"
   ]
  },
  {
   "cell_type": "markdown",
   "metadata": {
    "pycharm": {
     "name": "#%% md\n"
    }
   },
   "source": [
    "#### Insert Record into Song Table\n",
    "Implement the `song_table_insert` query in `sql_queries.py` and run the cell below to insert a record for this song into the `songs` table. Remember to run `create_tables.py` before running the cell below to ensure you've created/resetted the `songs` table in the sparkify database."
   ]
  },
  {
   "cell_type": "code",
   "execution_count": 9,
   "metadata": {
    "pycharm": {
     "name": "#%%\n"
    }
   },
   "outputs": [
    {
     "name": "stdout",
     "output_type": "stream",
     "text": [
      "INSERT INTO SONGS(song_id,title,artist_id, year,duration ) VALUES(%(song_id)s, %(title)s,%(artist_id)s, %(year)s,%(duration)s)\n"
     ]
    },
    {
     "ename": "UniqueViolation",
     "evalue": "duplicate key value violates unique constraint \"songs_pkey\"\nDETAIL:  Key (song_id)=(SOCIWDW12A8C13D406) already exists.\n",
     "output_type": "error",
     "traceback": [
      "\u001B[1;31m---------------------------------------------------------------------------\u001B[0m",
      "\u001B[1;31mUniqueViolation\u001B[0m                           Traceback (most recent call last)",
      "Input \u001B[1;32mIn [9]\u001B[0m, in \u001B[0;36m<cell line: 3>\u001B[1;34m()\u001B[0m\n\u001B[0;32m      1\u001B[0m song_table_insert \u001B[38;5;241m=\u001B[39m \u001B[38;5;124m\"\"\"\u001B[39m\u001B[38;5;124mINSERT INTO SONGS(song_id,title,artist_id, year,duration ) VALUES(\u001B[39m\u001B[38;5;132;01m%(song_id)s\u001B[39;00m\u001B[38;5;124m, \u001B[39m\u001B[38;5;132;01m%(title)s\u001B[39;00m\u001B[38;5;124m,\u001B[39m\u001B[38;5;132;01m%(artist_id)s\u001B[39;00m\u001B[38;5;124m, \u001B[39m\u001B[38;5;132;01m%(year)s\u001B[39;00m\u001B[38;5;124m,\u001B[39m\u001B[38;5;132;01m%(duration)s\u001B[39;00m\u001B[38;5;124m)\u001B[39m\u001B[38;5;124m\"\"\"\u001B[39m\n\u001B[0;32m      2\u001B[0m \u001B[38;5;28mprint\u001B[39m(song_table_insert)\n\u001B[1;32m----> 3\u001B[0m \u001B[43mcur\u001B[49m\u001B[38;5;241;43m.\u001B[39;49m\u001B[43mexecute\u001B[49m\u001B[43m(\u001B[49m\u001B[43msong_table_insert\u001B[49m\u001B[43m,\u001B[49m\u001B[43m \u001B[49m\u001B[43msong_data\u001B[49m\u001B[43m)\u001B[49m\n\u001B[0;32m      4\u001B[0m conn\u001B[38;5;241m.\u001B[39mcommit()\n",
      "\u001B[1;31mUniqueViolation\u001B[0m: duplicate key value violates unique constraint \"songs_pkey\"\nDETAIL:  Key (song_id)=(SOCIWDW12A8C13D406) already exists.\n"
     ]
    }
   ],
   "source": [
    "song_table_insert = \"\"\"INSERT INTO SONGS(song_id,title,artist_id, year,duration ) VALUES(%(song_id)s, %(title)s,%(artist_id)s, %(year)s,%(duration)s)\"\"\"\n",
    "print(song_table_insert)\n",
    "cur.execute(song_table_insert, song_data)\n",
    "conn.commit()"
   ]
  },
  {
   "cell_type": "markdown",
   "metadata": {
    "pycharm": {
     "name": "#%% md\n"
    }
   },
   "source": [
    "Run `test.ipynb` to see if you've successfully added a record to this table."
   ]
  },
  {
   "cell_type": "markdown",
   "metadata": {
    "pycharm": {
     "name": "#%% md\n"
    }
   },
   "source": [
    "## #2: `artists` Table\n",
    "#### Extract Data for Artists Table\n",
    "- Select columns for artist ID, name, location, latitude, and longitude\n",
    "- Use `df.values` to select just the values from the dataframe\n",
    "- Index to select the first (only) record in the dataframe\n",
    "- Convert the array to a list and set it to `artist_data`"
   ]
  },
  {
   "cell_type": "code",
   "execution_count": 24,
   "metadata": {
    "pycharm": {
     "name": "#%%\n"
    }
   },
   "outputs": [],
   "source": [
    "artist_data = df\n",
    "#artist_data"
   ]
  },
  {
   "cell_type": "markdown",
   "metadata": {
    "pycharm": {
     "name": "#%% md\n"
    }
   },
   "source": [
    "#### Insert Record into Artist Table\n",
    "Implement the `artist_table_insert` query in `sql_queries.py` and run the cell below to insert a record for this song's artist into the `artists` table. Remember to run `create_tables.py` before running the cell below to ensure you've created/resetted the `artists` table in the sparkify database."
   ]
  },
  {
   "cell_type": "code",
   "execution_count": 25,
   "metadata": {
    "pycharm": {
     "name": "#%%\n"
    }
   },
   "outputs": [],
   "source": [
    "artist_table_insert = \"\"\"INSERT INTO ARTISTS (artist_id ,name ,location , latitude ,longitude  ) VALUES(%(artist_id)s, %(artist_name)s,%(artist_location)s, %(artist_latitude)s,%(artist_longitude)s)\"\"\"\n",
    "cur.execute(artist_table_insert, artist_data)\n",
    "conn.commit()"
   ]
  },
  {
   "cell_type": "markdown",
   "metadata": {
    "pycharm": {
     "name": "#%% md\n"
    }
   },
   "source": [
    "Run `test.ipynb` to see if you've successfully added a record to this table."
   ]
  },
  {
   "cell_type": "markdown",
   "metadata": {
    "pycharm": {
     "name": "#%% md\n"
    }
   },
   "source": [
    "# Process `log_data`\n",
    "In this part, you'll perform ETL on the second dataset, `log_data`, to create the `time` and `users` dimensional tables, as well as the `songplays` fact table.\n",
    "\n",
    "Let's perform ETL on a single log file and load a single record into each table.\n",
    "- Use the `get_files` function provided above to get a list of all log JSON files in `data/log_data`\n",
    "- Select the first log file in this list\n",
    "- Read the log file and view the data"
   ]
  },
  {
   "cell_type": "code",
   "execution_count": 30,
   "metadata": {
    "pycharm": {
     "name": "#%%\n"
    }
   },
   "outputs": [
    {
     "data": {
      "text/plain": "['C:\\\\Users\\\\sthoe09258\\\\OneDrive - Elekta\\\\Desktop\\\\udacity\\\\DataEngineering\\\\project1\\\\project-template\\\\data\\\\log_data\\\\2018\\\\11\\\\2018-11-01-events.json',\n 'C:\\\\Users\\\\sthoe09258\\\\OneDrive - Elekta\\\\Desktop\\\\udacity\\\\DataEngineering\\\\project1\\\\project-template\\\\data\\\\log_data\\\\2018\\\\11\\\\2018-11-02-events.json',\n 'C:\\\\Users\\\\sthoe09258\\\\OneDrive - Elekta\\\\Desktop\\\\udacity\\\\DataEngineering\\\\project1\\\\project-template\\\\data\\\\log_data\\\\2018\\\\11\\\\2018-11-03-events.json',\n 'C:\\\\Users\\\\sthoe09258\\\\OneDrive - Elekta\\\\Desktop\\\\udacity\\\\DataEngineering\\\\project1\\\\project-template\\\\data\\\\log_data\\\\2018\\\\11\\\\2018-11-04-events.json',\n 'C:\\\\Users\\\\sthoe09258\\\\OneDrive - Elekta\\\\Desktop\\\\udacity\\\\DataEngineering\\\\project1\\\\project-template\\\\data\\\\log_data\\\\2018\\\\11\\\\2018-11-05-events.json',\n 'C:\\\\Users\\\\sthoe09258\\\\OneDrive - Elekta\\\\Desktop\\\\udacity\\\\DataEngineering\\\\project1\\\\project-template\\\\data\\\\log_data\\\\2018\\\\11\\\\2018-11-06-events.json',\n 'C:\\\\Users\\\\sthoe09258\\\\OneDrive - Elekta\\\\Desktop\\\\udacity\\\\DataEngineering\\\\project1\\\\project-template\\\\data\\\\log_data\\\\2018\\\\11\\\\2018-11-07-events.json',\n 'C:\\\\Users\\\\sthoe09258\\\\OneDrive - Elekta\\\\Desktop\\\\udacity\\\\DataEngineering\\\\project1\\\\project-template\\\\data\\\\log_data\\\\2018\\\\11\\\\2018-11-08-events.json',\n 'C:\\\\Users\\\\sthoe09258\\\\OneDrive - Elekta\\\\Desktop\\\\udacity\\\\DataEngineering\\\\project1\\\\project-template\\\\data\\\\log_data\\\\2018\\\\11\\\\2018-11-09-events.json',\n 'C:\\\\Users\\\\sthoe09258\\\\OneDrive - Elekta\\\\Desktop\\\\udacity\\\\DataEngineering\\\\project1\\\\project-template\\\\data\\\\log_data\\\\2018\\\\11\\\\2018-11-10-events.json',\n 'C:\\\\Users\\\\sthoe09258\\\\OneDrive - Elekta\\\\Desktop\\\\udacity\\\\DataEngineering\\\\project1\\\\project-template\\\\data\\\\log_data\\\\2018\\\\11\\\\2018-11-11-events.json',\n 'C:\\\\Users\\\\sthoe09258\\\\OneDrive - Elekta\\\\Desktop\\\\udacity\\\\DataEngineering\\\\project1\\\\project-template\\\\data\\\\log_data\\\\2018\\\\11\\\\2018-11-12-events.json',\n 'C:\\\\Users\\\\sthoe09258\\\\OneDrive - Elekta\\\\Desktop\\\\udacity\\\\DataEngineering\\\\project1\\\\project-template\\\\data\\\\log_data\\\\2018\\\\11\\\\2018-11-13-events.json',\n 'C:\\\\Users\\\\sthoe09258\\\\OneDrive - Elekta\\\\Desktop\\\\udacity\\\\DataEngineering\\\\project1\\\\project-template\\\\data\\\\log_data\\\\2018\\\\11\\\\2018-11-14-events.json',\n 'C:\\\\Users\\\\sthoe09258\\\\OneDrive - Elekta\\\\Desktop\\\\udacity\\\\DataEngineering\\\\project1\\\\project-template\\\\data\\\\log_data\\\\2018\\\\11\\\\2018-11-15-events.json',\n 'C:\\\\Users\\\\sthoe09258\\\\OneDrive - Elekta\\\\Desktop\\\\udacity\\\\DataEngineering\\\\project1\\\\project-template\\\\data\\\\log_data\\\\2018\\\\11\\\\2018-11-16-events.json',\n 'C:\\\\Users\\\\sthoe09258\\\\OneDrive - Elekta\\\\Desktop\\\\udacity\\\\DataEngineering\\\\project1\\\\project-template\\\\data\\\\log_data\\\\2018\\\\11\\\\2018-11-17-events.json',\n 'C:\\\\Users\\\\sthoe09258\\\\OneDrive - Elekta\\\\Desktop\\\\udacity\\\\DataEngineering\\\\project1\\\\project-template\\\\data\\\\log_data\\\\2018\\\\11\\\\2018-11-18-events.json',\n 'C:\\\\Users\\\\sthoe09258\\\\OneDrive - Elekta\\\\Desktop\\\\udacity\\\\DataEngineering\\\\project1\\\\project-template\\\\data\\\\log_data\\\\2018\\\\11\\\\2018-11-19-events.json',\n 'C:\\\\Users\\\\sthoe09258\\\\OneDrive - Elekta\\\\Desktop\\\\udacity\\\\DataEngineering\\\\project1\\\\project-template\\\\data\\\\log_data\\\\2018\\\\11\\\\2018-11-20-events.json',\n 'C:\\\\Users\\\\sthoe09258\\\\OneDrive - Elekta\\\\Desktop\\\\udacity\\\\DataEngineering\\\\project1\\\\project-template\\\\data\\\\log_data\\\\2018\\\\11\\\\2018-11-21-events.json',\n 'C:\\\\Users\\\\sthoe09258\\\\OneDrive - Elekta\\\\Desktop\\\\udacity\\\\DataEngineering\\\\project1\\\\project-template\\\\data\\\\log_data\\\\2018\\\\11\\\\2018-11-22-events.json',\n 'C:\\\\Users\\\\sthoe09258\\\\OneDrive - Elekta\\\\Desktop\\\\udacity\\\\DataEngineering\\\\project1\\\\project-template\\\\data\\\\log_data\\\\2018\\\\11\\\\2018-11-23-events.json',\n 'C:\\\\Users\\\\sthoe09258\\\\OneDrive - Elekta\\\\Desktop\\\\udacity\\\\DataEngineering\\\\project1\\\\project-template\\\\data\\\\log_data\\\\2018\\\\11\\\\2018-11-24-events.json',\n 'C:\\\\Users\\\\sthoe09258\\\\OneDrive - Elekta\\\\Desktop\\\\udacity\\\\DataEngineering\\\\project1\\\\project-template\\\\data\\\\log_data\\\\2018\\\\11\\\\2018-11-25-events.json',\n 'C:\\\\Users\\\\sthoe09258\\\\OneDrive - Elekta\\\\Desktop\\\\udacity\\\\DataEngineering\\\\project1\\\\project-template\\\\data\\\\log_data\\\\2018\\\\11\\\\2018-11-26-events.json',\n 'C:\\\\Users\\\\sthoe09258\\\\OneDrive - Elekta\\\\Desktop\\\\udacity\\\\DataEngineering\\\\project1\\\\project-template\\\\data\\\\log_data\\\\2018\\\\11\\\\2018-11-27-events.json',\n 'C:\\\\Users\\\\sthoe09258\\\\OneDrive - Elekta\\\\Desktop\\\\udacity\\\\DataEngineering\\\\project1\\\\project-template\\\\data\\\\log_data\\\\2018\\\\11\\\\2018-11-28-events.json',\n 'C:\\\\Users\\\\sthoe09258\\\\OneDrive - Elekta\\\\Desktop\\\\udacity\\\\DataEngineering\\\\project1\\\\project-template\\\\data\\\\log_data\\\\2018\\\\11\\\\2018-11-29-events.json',\n 'C:\\\\Users\\\\sthoe09258\\\\OneDrive - Elekta\\\\Desktop\\\\udacity\\\\DataEngineering\\\\project1\\\\project-template\\\\data\\\\log_data\\\\2018\\\\11\\\\2018-11-30-events.json']"
     },
     "execution_count": 30,
     "metadata": {},
     "output_type": "execute_result"
    }
   ],
   "source": [
    "log_files = get_files(\"data/log_data\")\n",
    "log_files"
   ]
  },
  {
   "cell_type": "code",
   "execution_count": 31,
   "metadata": {
    "pycharm": {
     "name": "#%%\n"
    }
   },
   "outputs": [
    {
     "data": {
      "text/plain": "'C:\\\\Users\\\\sthoe09258\\\\OneDrive - Elekta\\\\Desktop\\\\udacity\\\\DataEngineering\\\\project1\\\\project-template\\\\data\\\\log_data\\\\2018\\\\11\\\\2018-11-01-events.json'"
     },
     "execution_count": 31,
     "metadata": {},
     "output_type": "execute_result"
    }
   ],
   "source": [
    "filepath = log_files[0]\n",
    "filepath"
   ]
  },
  {
   "cell_type": "code",
   "execution_count": 34,
   "metadata": {
    "pycharm": {
     "name": "#%%\n"
    }
   },
   "outputs": [
    {
     "data": {
      "text/plain": "{'artist': None,\n 'auth': 'Logged In',\n 'firstName': 'Walter',\n 'gender': 'M',\n 'itemInSession': 0,\n 'lastName': 'Frye',\n 'length': None,\n 'level': 'free',\n 'location': 'San Francisco-Oakland-Hayward, CA',\n 'method': 'GET',\n 'page': 'Home',\n 'registration': 1540919166796.0,\n 'sessionId': 38,\n 'song': None,\n 'status': 200,\n 'ts': 1541105830796,\n 'userAgent': '\"Mozilla/5.0 (Macintosh; Intel Mac OS X 10_9_4) AppleWebKit/537.36 (KHTML, like Gecko) Chrome/36.0.1985.143 Safari/537.36\"',\n 'userId': '39'}"
     },
     "execution_count": 34,
     "metadata": {},
     "output_type": "execute_result"
    }
   ],
   "source": [
    "df = pd.read_json(filepath, lines=True ,typ='series')\n",
    "df.head()\n",
    "df[0]"
   ]
  },
  {
   "cell_type": "markdown",
   "metadata": {
    "pycharm": {
     "name": "#%% md\n"
    }
   },
   "source": [
    "## #3: `time` Table\n",
    "#### Extract Data for Time Table\n",
    "- Filter records by `NextSong` action\n",
    "- Convert the `ts` timestamp column to datetime\n",
    "  - Hint: the current timestamp is in milliseconds\n",
    "- Extract the timestamp, hour, day, week of year, month, year, and weekday from the `ts` column and set `time_data` to a list containing these values in order\n",
    "  - Hint: use pandas' [`dt` attribute](https://pandas.pydata.org/pandas-docs/stable/reference/api/pandas.Series.dt.html) to access easily datetimelike properties.\n",
    "- Specify labels for these columns and set to `column_labels`\n",
    "- Create a dataframe, `time_df,` containing the time data for this file by combining `column_labels` and `time_data` into a dictionary and converting this into a dataframe"
   ]
  },
  {
   "cell_type": "code",
   "execution_count": null,
   "metadata": {
    "pycharm": {
     "name": "#%%\n"
    }
   },
   "outputs": [],
   "source": [
    "df = \n",
    "df.head()"
   ]
  },
  {
   "cell_type": "code",
   "execution_count": null,
   "metadata": {
    "pycharm": {
     "name": "#%%\n"
    }
   },
   "outputs": [],
   "source": [
    "t = \n",
    "t.head()"
   ]
  },
  {
   "cell_type": "code",
   "execution_count": null,
   "metadata": {
    "pycharm": {
     "name": "#%%\n"
    }
   },
   "outputs": [],
   "source": [
    "time_data = ()\n",
    "column_labels = ()"
   ]
  },
  {
   "cell_type": "code",
   "execution_count": null,
   "metadata": {
    "pycharm": {
     "name": "#%%\n"
    }
   },
   "outputs": [],
   "source": [
    "time_df = \n",
    "time_df.head()"
   ]
  },
  {
   "cell_type": "markdown",
   "metadata": {
    "pycharm": {
     "name": "#%% md\n"
    }
   },
   "source": [
    "#### Insert Records into Time Table\n",
    "Implement the `time_table_insert` query in `sql_queries.py` and run the cell below to insert records for the timestamps in this log file into the `time` table. Remember to run `create_tables.py` before running the cell below to ensure you've created/resetted the `time` table in the sparkify database."
   ]
  },
  {
   "cell_type": "code",
   "execution_count": null,
   "metadata": {
    "pycharm": {
     "name": "#%%\n"
    }
   },
   "outputs": [],
   "source": [
    "for i, row in time_df.iterrows():\n",
    "    cur.execute(time_table_insert, list(row))\n",
    "    conn.commit()"
   ]
  },
  {
   "cell_type": "markdown",
   "metadata": {
    "pycharm": {
     "name": "#%% md\n"
    }
   },
   "source": [
    "Run `test.ipynb` to see if you've successfully added records to this table."
   ]
  },
  {
   "cell_type": "markdown",
   "metadata": {
    "pycharm": {
     "name": "#%% md\n"
    }
   },
   "source": [
    "## #4: `users` Table\n",
    "#### Extract Data for Users Table\n",
    "- Select columns for user ID, first name, last name, gender and level and set to `user_df`"
   ]
  },
  {
   "cell_type": "code",
   "execution_count": null,
   "metadata": {
    "pycharm": {
     "name": "#%%\n"
    }
   },
   "outputs": [],
   "source": [
    "user_df = "
   ]
  },
  {
   "cell_type": "markdown",
   "metadata": {
    "pycharm": {
     "name": "#%% md\n"
    }
   },
   "source": [
    "#### Insert Records into Users Table\n",
    "Implement the `user_table_insert` query in `sql_queries.py` and run the cell below to insert records for the users in this log file into the `users` table. Remember to run `create_tables.py` before running the cell below to ensure you've created/resetted the `users` table in the sparkify database."
   ]
  },
  {
   "cell_type": "code",
   "execution_count": null,
   "metadata": {
    "pycharm": {
     "name": "#%%\n"
    }
   },
   "outputs": [],
   "source": [
    "for i, row in user_df.iterrows():\n",
    "    cur.execute(user_table_insert, row)\n",
    "    conn.commit()"
   ]
  },
  {
   "cell_type": "markdown",
   "metadata": {
    "pycharm": {
     "name": "#%% md\n"
    }
   },
   "source": [
    "Run `test.ipynb` to see if you've successfully added records to this table."
   ]
  },
  {
   "cell_type": "markdown",
   "metadata": {
    "pycharm": {
     "name": "#%% md\n"
    }
   },
   "source": [
    "## #5: `songplays` Table\n",
    "#### Extract Data and Songplays Table\n",
    "This one is a little more complicated since information from the songs table, artists table, and original log file are all needed for the `songplays` table. Since the log file does not specify an ID for either the song or the artist, you'll need to get the song ID and artist ID by querying the songs and artists tables to find matches based on song title, artist name, and song duration time.\n",
    "- Implement the `song_select` query in `sql_queries.py` to find the song ID and artist ID based on the title, artist name, and duration of a song.\n",
    "- Select the timestamp, user ID, level, song ID, artist ID, session ID, location, and user agent and set to `songplay_data`\n",
    "\n",
    "#### Insert Records into Songplays Table\n",
    "- Implement the `songplay_table_insert` query and run the cell below to insert records for the songplay actions in this log file into the `songplays` table. Remember to run `create_tables.py` before running the cell below to ensure you've created/resetted the `songplays` table in the sparkify database."
   ]
  },
  {
   "cell_type": "code",
   "execution_count": null,
   "metadata": {
    "pycharm": {
     "name": "#%%\n"
    }
   },
   "outputs": [],
   "source": [
    "for index, row in df.iterrows():\n",
    "\n",
    "    # get songid and artistid from song and artist tables\n",
    "    cur.execute(song_select, (row.song, row.artist, row.length))\n",
    "    results = cur.fetchone()\n",
    "    \n",
    "    if results:\n",
    "        songid, artistid = results\n",
    "    else:\n",
    "        songid, artistid = None, None\n",
    "\n",
    "    # insert songplay record\n",
    "    songplay_data = ()\n",
    "    cur.execute(songplay_table_insert, songplay_data)\n",
    "    conn.commit()"
   ]
  },
  {
   "cell_type": "markdown",
   "metadata": {
    "pycharm": {
     "name": "#%% md\n"
    }
   },
   "source": [
    "Run `test.ipynb` to see if you've successfully added records to this table."
   ]
  },
  {
   "cell_type": "markdown",
   "metadata": {
    "pycharm": {
     "name": "#%% md\n"
    }
   },
   "source": [
    "# Close Connection to Sparkify Database"
   ]
  },
  {
   "cell_type": "code",
   "execution_count": null,
   "metadata": {
    "pycharm": {
     "name": "#%%\n"
    }
   },
   "outputs": [],
   "source": [
    "conn.close()"
   ]
  },
  {
   "cell_type": "markdown",
   "metadata": {
    "pycharm": {
     "name": "#%% md\n"
    }
   },
   "source": [
    "# Implement `etl.py`\n",
    "Use what you've completed in this notebook to implement `etl.py`."
   ]
  },
  {
   "cell_type": "code",
   "execution_count": null,
   "metadata": {
    "pycharm": {
     "name": "#%%\n"
    }
   },
   "outputs": [],
   "source": []
  }
 ],
 "metadata": {
  "kernelspec": {
   "display_name": "Python 3",
   "language": "python",
   "name": "python3"
  },
  "language_info": {
   "codemirror_mode": {
    "name": "ipython",
    "version": 3
   },
   "file_extension": ".py",
   "mimetype": "text/x-python",
   "name": "python",
   "nbconvert_exporter": "python",
   "pygments_lexer": "ipython3",
   "version": "3.6.3"
  }
 },
 "nbformat": 4,
 "nbformat_minor": 2
}