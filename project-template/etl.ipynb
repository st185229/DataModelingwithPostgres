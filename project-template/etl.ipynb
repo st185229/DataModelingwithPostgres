{
 "cells": [
  {
   "cell_type": "markdown",
   "metadata": {
    "pycharm": {
     "name": "#%% md\n"
    }
   },
   "source": [
    "# ETL Processes\n",
    "Use this notebook to develop the ETL process for each of your tables before completing the `etl.py` file to load the whole datasets."
   ]
  },
  {
   "cell_type": "code",
   "execution_count": 128,
   "metadata": {
    "pycharm": {
     "name": "#%%\n"
    }
   },
   "outputs": [],
   "source": [
    "import os\n",
    "import glob\n",
    "import psycopg2\n",
    "import pandas as pd"
   ]
  },
  {
   "cell_type": "code",
   "execution_count": 129,
   "metadata": {
    "pycharm": {
     "name": "#%%\n"
    }
   },
   "outputs": [],
   "source": [
    "conn = psycopg2.connect(\"host=127.0.0.1 dbname=sparkifydb user=student password=student\")\n",
    "cur = conn.cursor()"
   ]
  },
  {
   "cell_type": "code",
   "execution_count": 130,
   "metadata": {
    "pycharm": {
     "name": "#%%\n"
    }
   },
   "outputs": [],
   "source": [
    "def get_files(filepath):\n",
    "    all_files = []\n",
    "    for root, dirs, files in os.walk(filepath):\n",
    "        files = glob.glob(os.path.join(root,'*.json'))\n",
    "        for f in files :\n",
    "            all_files.append(os.path.abspath(f))\n",
    "    return all_files"
   ]
  },
  {
   "cell_type": "markdown",
   "metadata": {
    "pycharm": {
     "name": "#%% md\n"
    }
   },
   "source": [
    "# Process `song_data`\n",
    "In this first part, you'll perform ETL on the first dataset, `song_data`, to create the `songs` and `artists` dimensional tables.\n",
    "\n",
    "Let's perform ETL on a single song file and load a single record into each table to start.\n",
    "- Use the `get_files` function provided above to get a list of all song JSON files in `data/song_data`\n",
    "- Select the first song in this list\n",
    "- Read the song file and view the data"
   ]
  },
  {
   "cell_type": "code",
   "execution_count": 131,
   "metadata": {
    "pycharm": {
     "name": "#%%\n"
    }
   },
   "outputs": [
    {
     "name": "stdout",
     "output_type": "stream",
     "text": [
      "['C:\\\\Users\\\\sthoe09258\\\\OneDrive - Elekta\\\\Desktop\\\\udacity\\\\DataEngineering\\\\project1\\\\project-template\\\\data\\\\song_data\\\\A\\\\A\\\\A\\\\TRAAAAW128F429D538.json', 'C:\\\\Users\\\\sthoe09258\\\\OneDrive - Elekta\\\\Desktop\\\\udacity\\\\DataEngineering\\\\project1\\\\project-template\\\\data\\\\song_data\\\\A\\\\A\\\\A\\\\TRAAABD128F429CF47.json', 'C:\\\\Users\\\\sthoe09258\\\\OneDrive - Elekta\\\\Desktop\\\\udacity\\\\DataEngineering\\\\project1\\\\project-template\\\\data\\\\song_data\\\\A\\\\A\\\\A\\\\TRAAADZ128F9348C2E.json', 'C:\\\\Users\\\\sthoe09258\\\\OneDrive - Elekta\\\\Desktop\\\\udacity\\\\DataEngineering\\\\project1\\\\project-template\\\\data\\\\song_data\\\\A\\\\A\\\\A\\\\TRAAAEF128F4273421.json', 'C:\\\\Users\\\\sthoe09258\\\\OneDrive - Elekta\\\\Desktop\\\\udacity\\\\DataEngineering\\\\project1\\\\project-template\\\\data\\\\song_data\\\\A\\\\A\\\\A\\\\TRAAAFD128F92F423A.json', 'C:\\\\Users\\\\sthoe09258\\\\OneDrive - Elekta\\\\Desktop\\\\udacity\\\\DataEngineering\\\\project1\\\\project-template\\\\data\\\\song_data\\\\A\\\\A\\\\A\\\\TRAAAMO128F1481E7F.json', 'C:\\\\Users\\\\sthoe09258\\\\OneDrive - Elekta\\\\Desktop\\\\udacity\\\\DataEngineering\\\\project1\\\\project-template\\\\data\\\\song_data\\\\A\\\\A\\\\A\\\\TRAAAMQ128F1460CD3.json', 'C:\\\\Users\\\\sthoe09258\\\\OneDrive - Elekta\\\\Desktop\\\\udacity\\\\DataEngineering\\\\project1\\\\project-template\\\\data\\\\song_data\\\\A\\\\A\\\\A\\\\TRAAAPK128E0786D96.json', 'C:\\\\Users\\\\sthoe09258\\\\OneDrive - Elekta\\\\Desktop\\\\udacity\\\\DataEngineering\\\\project1\\\\project-template\\\\data\\\\song_data\\\\A\\\\A\\\\A\\\\TRAAARJ128F9320760.json', 'C:\\\\Users\\\\sthoe09258\\\\OneDrive - Elekta\\\\Desktop\\\\udacity\\\\DataEngineering\\\\project1\\\\project-template\\\\data\\\\song_data\\\\A\\\\A\\\\A\\\\TRAAAVG12903CFA543.json', 'C:\\\\Users\\\\sthoe09258\\\\OneDrive - Elekta\\\\Desktop\\\\udacity\\\\DataEngineering\\\\project1\\\\project-template\\\\data\\\\song_data\\\\A\\\\A\\\\A\\\\TRAAAVO128F93133D4.json', 'C:\\\\Users\\\\sthoe09258\\\\OneDrive - Elekta\\\\Desktop\\\\udacity\\\\DataEngineering\\\\project1\\\\project-template\\\\data\\\\song_data\\\\A\\\\A\\\\B\\\\TRAABCL128F4286650.json', 'C:\\\\Users\\\\sthoe09258\\\\OneDrive - Elekta\\\\Desktop\\\\udacity\\\\DataEngineering\\\\project1\\\\project-template\\\\data\\\\song_data\\\\A\\\\A\\\\B\\\\TRAABDL12903CAABBA.json', 'C:\\\\Users\\\\sthoe09258\\\\OneDrive - Elekta\\\\Desktop\\\\udacity\\\\DataEngineering\\\\project1\\\\project-template\\\\data\\\\song_data\\\\A\\\\A\\\\B\\\\TRAABJL12903CDCF1A.json', 'C:\\\\Users\\\\sthoe09258\\\\OneDrive - Elekta\\\\Desktop\\\\udacity\\\\DataEngineering\\\\project1\\\\project-template\\\\data\\\\song_data\\\\A\\\\A\\\\B\\\\TRAABJV128F1460C49.json', 'C:\\\\Users\\\\sthoe09258\\\\OneDrive - Elekta\\\\Desktop\\\\udacity\\\\DataEngineering\\\\project1\\\\project-template\\\\data\\\\song_data\\\\A\\\\A\\\\B\\\\TRAABLR128F423B7E3.json', 'C:\\\\Users\\\\sthoe09258\\\\OneDrive - Elekta\\\\Desktop\\\\udacity\\\\DataEngineering\\\\project1\\\\project-template\\\\data\\\\song_data\\\\A\\\\A\\\\B\\\\TRAABNV128F425CEE1.json', 'C:\\\\Users\\\\sthoe09258\\\\OneDrive - Elekta\\\\Desktop\\\\udacity\\\\DataEngineering\\\\project1\\\\project-template\\\\data\\\\song_data\\\\A\\\\A\\\\B\\\\TRAABRB128F9306DD5.json', 'C:\\\\Users\\\\sthoe09258\\\\OneDrive - Elekta\\\\Desktop\\\\udacity\\\\DataEngineering\\\\project1\\\\project-template\\\\data\\\\song_data\\\\A\\\\A\\\\B\\\\TRAABVM128F92CA9DC.json', 'C:\\\\Users\\\\sthoe09258\\\\OneDrive - Elekta\\\\Desktop\\\\udacity\\\\DataEngineering\\\\project1\\\\project-template\\\\data\\\\song_data\\\\A\\\\A\\\\B\\\\TRAABXG128F9318EBD.json', 'C:\\\\Users\\\\sthoe09258\\\\OneDrive - Elekta\\\\Desktop\\\\udacity\\\\DataEngineering\\\\project1\\\\project-template\\\\data\\\\song_data\\\\A\\\\A\\\\B\\\\TRAABYN12903CFD305.json', 'C:\\\\Users\\\\sthoe09258\\\\OneDrive - Elekta\\\\Desktop\\\\udacity\\\\DataEngineering\\\\project1\\\\project-template\\\\data\\\\song_data\\\\A\\\\A\\\\B\\\\TRAABYW128F4244559.json', 'C:\\\\Users\\\\sthoe09258\\\\OneDrive - Elekta\\\\Desktop\\\\udacity\\\\DataEngineering\\\\project1\\\\project-template\\\\data\\\\song_data\\\\A\\\\A\\\\C\\\\TRAACCG128F92E8A55.json', 'C:\\\\Users\\\\sthoe09258\\\\OneDrive - Elekta\\\\Desktop\\\\udacity\\\\DataEngineering\\\\project1\\\\project-template\\\\data\\\\song_data\\\\A\\\\A\\\\C\\\\TRAACER128F4290F96.json', 'C:\\\\Users\\\\sthoe09258\\\\OneDrive - Elekta\\\\Desktop\\\\udacity\\\\DataEngineering\\\\project1\\\\project-template\\\\data\\\\song_data\\\\A\\\\A\\\\C\\\\TRAACFV128F935E50B.json', 'C:\\\\Users\\\\sthoe09258\\\\OneDrive - Elekta\\\\Desktop\\\\udacity\\\\DataEngineering\\\\project1\\\\project-template\\\\data\\\\song_data\\\\A\\\\A\\\\C\\\\TRAACHN128F1489601.json', 'C:\\\\Users\\\\sthoe09258\\\\OneDrive - Elekta\\\\Desktop\\\\udacity\\\\DataEngineering\\\\project1\\\\project-template\\\\data\\\\song_data\\\\A\\\\A\\\\C\\\\TRAACIW12903CC0F6D.json', 'C:\\\\Users\\\\sthoe09258\\\\OneDrive - Elekta\\\\Desktop\\\\udacity\\\\DataEngineering\\\\project1\\\\project-template\\\\data\\\\song_data\\\\A\\\\A\\\\C\\\\TRAACLV128F427E123.json', 'C:\\\\Users\\\\sthoe09258\\\\OneDrive - Elekta\\\\Desktop\\\\udacity\\\\DataEngineering\\\\project1\\\\project-template\\\\data\\\\song_data\\\\A\\\\A\\\\C\\\\TRAACNS128F14A2DF5.json', 'C:\\\\Users\\\\sthoe09258\\\\OneDrive - Elekta\\\\Desktop\\\\udacity\\\\DataEngineering\\\\project1\\\\project-template\\\\data\\\\song_data\\\\A\\\\A\\\\C\\\\TRAACOW128F933E35F.json', 'C:\\\\Users\\\\sthoe09258\\\\OneDrive - Elekta\\\\Desktop\\\\udacity\\\\DataEngineering\\\\project1\\\\project-template\\\\data\\\\song_data\\\\A\\\\A\\\\C\\\\TRAACPE128F421C1B9.json', 'C:\\\\Users\\\\sthoe09258\\\\OneDrive - Elekta\\\\Desktop\\\\udacity\\\\DataEngineering\\\\project1\\\\project-template\\\\data\\\\song_data\\\\A\\\\A\\\\C\\\\TRAACQT128F9331780.json', 'C:\\\\Users\\\\sthoe09258\\\\OneDrive - Elekta\\\\Desktop\\\\udacity\\\\DataEngineering\\\\project1\\\\project-template\\\\data\\\\song_data\\\\A\\\\A\\\\C\\\\TRAACSL128F93462F4.json', 'C:\\\\Users\\\\sthoe09258\\\\OneDrive - Elekta\\\\Desktop\\\\udacity\\\\DataEngineering\\\\project1\\\\project-template\\\\data\\\\song_data\\\\A\\\\A\\\\C\\\\TRAACTB12903CAAF15.json', 'C:\\\\Users\\\\sthoe09258\\\\OneDrive - Elekta\\\\Desktop\\\\udacity\\\\DataEngineering\\\\project1\\\\project-template\\\\data\\\\song_data\\\\A\\\\A\\\\C\\\\TRAACVS128E078BE39.json', 'C:\\\\Users\\\\sthoe09258\\\\OneDrive - Elekta\\\\Desktop\\\\udacity\\\\DataEngineering\\\\project1\\\\project-template\\\\data\\\\song_data\\\\A\\\\A\\\\C\\\\TRAACZK128F4243829.json', 'C:\\\\Users\\\\sthoe09258\\\\OneDrive - Elekta\\\\Desktop\\\\udacity\\\\DataEngineering\\\\project1\\\\project-template\\\\data\\\\song_data\\\\A\\\\B\\\\A\\\\TRABACN128F425B784.json', 'C:\\\\Users\\\\sthoe09258\\\\OneDrive - Elekta\\\\Desktop\\\\udacity\\\\DataEngineering\\\\project1\\\\project-template\\\\data\\\\song_data\\\\A\\\\B\\\\A\\\\TRABAFJ128F42AF24E.json', 'C:\\\\Users\\\\sthoe09258\\\\OneDrive - Elekta\\\\Desktop\\\\udacity\\\\DataEngineering\\\\project1\\\\project-template\\\\data\\\\song_data\\\\A\\\\B\\\\A\\\\TRABAFP128F931E9A1.json', 'C:\\\\Users\\\\sthoe09258\\\\OneDrive - Elekta\\\\Desktop\\\\udacity\\\\DataEngineering\\\\project1\\\\project-template\\\\data\\\\song_data\\\\A\\\\B\\\\A\\\\TRABAIO128F42938F9.json', 'C:\\\\Users\\\\sthoe09258\\\\OneDrive - Elekta\\\\Desktop\\\\udacity\\\\DataEngineering\\\\project1\\\\project-template\\\\data\\\\song_data\\\\A\\\\B\\\\A\\\\TRABATO128F42627E9.json', 'C:\\\\Users\\\\sthoe09258\\\\OneDrive - Elekta\\\\Desktop\\\\udacity\\\\DataEngineering\\\\project1\\\\project-template\\\\data\\\\song_data\\\\A\\\\B\\\\A\\\\TRABAVQ12903CBF7E0.json', 'C:\\\\Users\\\\sthoe09258\\\\OneDrive - Elekta\\\\Desktop\\\\udacity\\\\DataEngineering\\\\project1\\\\project-template\\\\data\\\\song_data\\\\A\\\\B\\\\A\\\\TRABAWW128F4250A31.json', 'C:\\\\Users\\\\sthoe09258\\\\OneDrive - Elekta\\\\Desktop\\\\udacity\\\\DataEngineering\\\\project1\\\\project-template\\\\data\\\\song_data\\\\A\\\\B\\\\A\\\\TRABAXL128F424FC50.json', 'C:\\\\Users\\\\sthoe09258\\\\OneDrive - Elekta\\\\Desktop\\\\udacity\\\\DataEngineering\\\\project1\\\\project-template\\\\data\\\\song_data\\\\A\\\\B\\\\A\\\\TRABAXR128F426515F.json', 'C:\\\\Users\\\\sthoe09258\\\\OneDrive - Elekta\\\\Desktop\\\\udacity\\\\DataEngineering\\\\project1\\\\project-template\\\\data\\\\song_data\\\\A\\\\B\\\\A\\\\TRABAXV128F92F6AE3.json', 'C:\\\\Users\\\\sthoe09258\\\\OneDrive - Elekta\\\\Desktop\\\\udacity\\\\DataEngineering\\\\project1\\\\project-template\\\\data\\\\song_data\\\\A\\\\B\\\\A\\\\TRABAZH128F930419A.json', 'C:\\\\Users\\\\sthoe09258\\\\OneDrive - Elekta\\\\Desktop\\\\udacity\\\\DataEngineering\\\\project1\\\\project-template\\\\data\\\\song_data\\\\A\\\\B\\\\B\\\\TRABBAM128F429D223.json', 'C:\\\\Users\\\\sthoe09258\\\\OneDrive - Elekta\\\\Desktop\\\\udacity\\\\DataEngineering\\\\project1\\\\project-template\\\\data\\\\song_data\\\\A\\\\B\\\\B\\\\TRABBBV128F42967D7.json', 'C:\\\\Users\\\\sthoe09258\\\\OneDrive - Elekta\\\\Desktop\\\\udacity\\\\DataEngineering\\\\project1\\\\project-template\\\\data\\\\song_data\\\\A\\\\B\\\\B\\\\TRABBJE12903CDB442.json', 'C:\\\\Users\\\\sthoe09258\\\\OneDrive - Elekta\\\\Desktop\\\\udacity\\\\DataEngineering\\\\project1\\\\project-template\\\\data\\\\song_data\\\\A\\\\B\\\\B\\\\TRABBKX128F4285205.json', 'C:\\\\Users\\\\sthoe09258\\\\OneDrive - Elekta\\\\Desktop\\\\udacity\\\\DataEngineering\\\\project1\\\\project-template\\\\data\\\\song_data\\\\A\\\\B\\\\B\\\\TRABBLU128F93349CF.json', 'C:\\\\Users\\\\sthoe09258\\\\OneDrive - Elekta\\\\Desktop\\\\udacity\\\\DataEngineering\\\\project1\\\\project-template\\\\data\\\\song_data\\\\A\\\\B\\\\B\\\\TRABBNP128F932546F.json', 'C:\\\\Users\\\\sthoe09258\\\\OneDrive - Elekta\\\\Desktop\\\\udacity\\\\DataEngineering\\\\project1\\\\project-template\\\\data\\\\song_data\\\\A\\\\B\\\\B\\\\TRABBOP128F931B50D.json', 'C:\\\\Users\\\\sthoe09258\\\\OneDrive - Elekta\\\\Desktop\\\\udacity\\\\DataEngineering\\\\project1\\\\project-template\\\\data\\\\song_data\\\\A\\\\B\\\\B\\\\TRABBOR128F4286200.json', 'C:\\\\Users\\\\sthoe09258\\\\OneDrive - Elekta\\\\Desktop\\\\udacity\\\\DataEngineering\\\\project1\\\\project-template\\\\data\\\\song_data\\\\A\\\\B\\\\B\\\\TRABBTA128F933D304.json', 'C:\\\\Users\\\\sthoe09258\\\\OneDrive - Elekta\\\\Desktop\\\\udacity\\\\DataEngineering\\\\project1\\\\project-template\\\\data\\\\song_data\\\\A\\\\B\\\\B\\\\TRABBVJ128F92F7EAA.json', 'C:\\\\Users\\\\sthoe09258\\\\OneDrive - Elekta\\\\Desktop\\\\udacity\\\\DataEngineering\\\\project1\\\\project-template\\\\data\\\\song_data\\\\A\\\\B\\\\B\\\\TRABBXU128F92FEF48.json', 'C:\\\\Users\\\\sthoe09258\\\\OneDrive - Elekta\\\\Desktop\\\\udacity\\\\DataEngineering\\\\project1\\\\project-template\\\\data\\\\song_data\\\\A\\\\B\\\\B\\\\TRABBZN12903CD9297.json', 'C:\\\\Users\\\\sthoe09258\\\\OneDrive - Elekta\\\\Desktop\\\\udacity\\\\DataEngineering\\\\project1\\\\project-template\\\\data\\\\song_data\\\\A\\\\B\\\\C\\\\TRABCAJ12903CDFCC2.json', 'C:\\\\Users\\\\sthoe09258\\\\OneDrive - Elekta\\\\Desktop\\\\udacity\\\\DataEngineering\\\\project1\\\\project-template\\\\data\\\\song_data\\\\A\\\\B\\\\C\\\\TRABCEC128F426456E.json', 'C:\\\\Users\\\\sthoe09258\\\\OneDrive - Elekta\\\\Desktop\\\\udacity\\\\DataEngineering\\\\project1\\\\project-template\\\\data\\\\song_data\\\\A\\\\B\\\\C\\\\TRABCEI128F424C983.json', 'C:\\\\Users\\\\sthoe09258\\\\OneDrive - Elekta\\\\Desktop\\\\udacity\\\\DataEngineering\\\\project1\\\\project-template\\\\data\\\\song_data\\\\A\\\\B\\\\C\\\\TRABCFL128F149BB0D.json', 'C:\\\\Users\\\\sthoe09258\\\\OneDrive - Elekta\\\\Desktop\\\\udacity\\\\DataEngineering\\\\project1\\\\project-template\\\\data\\\\song_data\\\\A\\\\B\\\\C\\\\TRABCIX128F4265903.json', 'C:\\\\Users\\\\sthoe09258\\\\OneDrive - Elekta\\\\Desktop\\\\udacity\\\\DataEngineering\\\\project1\\\\project-template\\\\data\\\\song_data\\\\A\\\\B\\\\C\\\\TRABCKL128F423A778.json', 'C:\\\\Users\\\\sthoe09258\\\\OneDrive - Elekta\\\\Desktop\\\\udacity\\\\DataEngineering\\\\project1\\\\project-template\\\\data\\\\song_data\\\\A\\\\B\\\\C\\\\TRABCPZ128F4275C32.json', 'C:\\\\Users\\\\sthoe09258\\\\OneDrive - Elekta\\\\Desktop\\\\udacity\\\\DataEngineering\\\\project1\\\\project-template\\\\data\\\\song_data\\\\A\\\\B\\\\C\\\\TRABCRU128F423F449.json', 'C:\\\\Users\\\\sthoe09258\\\\OneDrive - Elekta\\\\Desktop\\\\udacity\\\\DataEngineering\\\\project1\\\\project-template\\\\data\\\\song_data\\\\A\\\\B\\\\C\\\\TRABCTK128F934B224.json', 'C:\\\\Users\\\\sthoe09258\\\\OneDrive - Elekta\\\\Desktop\\\\udacity\\\\DataEngineering\\\\project1\\\\project-template\\\\data\\\\song_data\\\\A\\\\B\\\\C\\\\TRABCUQ128E0783E2B.json', 'C:\\\\Users\\\\sthoe09258\\\\OneDrive - Elekta\\\\Desktop\\\\udacity\\\\DataEngineering\\\\project1\\\\project-template\\\\data\\\\song_data\\\\A\\\\B\\\\C\\\\TRABCXB128F4286BD3.json', 'C:\\\\Users\\\\sthoe09258\\\\OneDrive - Elekta\\\\Desktop\\\\udacity\\\\DataEngineering\\\\project1\\\\project-template\\\\data\\\\song_data\\\\A\\\\B\\\\C\\\\TRABCYE128F934CE1D.json']\n"
     ]
    }
   ],
   "source": [
    "song_files = get_files(\"data/song_data\")\n",
    "print(song_files)"
   ]
  },
  {
   "cell_type": "code",
   "execution_count": 132,
   "metadata": {
    "pycharm": {
     "name": "#%%\n"
    }
   },
   "outputs": [
    {
     "name": "stdout",
     "output_type": "stream",
     "text": [
      "C:\\Users\\sthoe09258\\OneDrive - Elekta\\Desktop\\udacity\\DataEngineering\\project1\\project-template\\data\\song_data\\A\\A\\A\\TRAAABD128F429CF47.json\n"
     ]
    }
   ],
   "source": [
    "filepath =  song_files[1]\n",
    "print(filepath)"
   ]
  },
  {
   "cell_type": "code",
   "execution_count": 133,
   "metadata": {
    "pycharm": {
     "name": "#%%\n"
    }
   },
   "outputs": [
    {
     "data": {
      "text/plain": "   num_songs           artist_id  artist_latitude  artist_longitude  \\\n0          1  ARMJAGH1187FB546F3         35.14968         -90.04892   \n\n  artist_location   artist_name             song_id      title   duration  \\\n0     Memphis, TN  The Box Tops  SOCIWDW12A8C13D406  Soul Deep  148.03546   \n\n   year  \n0  1969  ",
      "text/html": "<div>\n<style scoped>\n    .dataframe tbody tr th:only-of-type {\n        vertical-align: middle;\n    }\n\n    .dataframe tbody tr th {\n        vertical-align: top;\n    }\n\n    .dataframe thead th {\n        text-align: right;\n    }\n</style>\n<table border=\"1\" class=\"dataframe\">\n  <thead>\n    <tr style=\"text-align: right;\">\n      <th></th>\n      <th>num_songs</th>\n      <th>artist_id</th>\n      <th>artist_latitude</th>\n      <th>artist_longitude</th>\n      <th>artist_location</th>\n      <th>artist_name</th>\n      <th>song_id</th>\n      <th>title</th>\n      <th>duration</th>\n      <th>year</th>\n    </tr>\n  </thead>\n  <tbody>\n    <tr>\n      <th>0</th>\n      <td>1</td>\n      <td>ARMJAGH1187FB546F3</td>\n      <td>35.14968</td>\n      <td>-90.04892</td>\n      <td>Memphis, TN</td>\n      <td>The Box Tops</td>\n      <td>SOCIWDW12A8C13D406</td>\n      <td>Soul Deep</td>\n      <td>148.03546</td>\n      <td>1969</td>\n    </tr>\n  </tbody>\n</table>\n</div>"
     },
     "execution_count": 133,
     "metadata": {},
     "output_type": "execute_result"
    }
   ],
   "source": [
    "#df = pd.read_json(filepath, typ='series')\n",
    "df = pd.read_json(filepath, lines=True)\n",
    "df.head()"
   ]
  },
  {
   "cell_type": "markdown",
   "metadata": {
    "pycharm": {
     "name": "#%% md\n"
    }
   },
   "source": [
    "## #1: `songs` Table\n",
    "#### Extract Data for Songs Table\n",
    "- Select columns for song ID, title, artist ID, year, and duration\n",
    "- Use `df.values` to select just the values from the dataframe\n",
    "- Index to select the first (only) record in the dataframe\n",
    "- Convert the array to a list and set it to `song_data`"
   ]
  },
  {
   "cell_type": "code",
   "execution_count": 134,
   "metadata": {
    "pycharm": {
     "name": "#%%\n"
    }
   },
   "outputs": [
    {
     "data": {
      "text/plain": "array(['SOCIWDW12A8C13D406', 'Soul Deep', 'ARMJAGH1187FB546F3', 1969,\n       148.03546], dtype=object)"
     },
     "execution_count": 134,
     "metadata": {},
     "output_type": "execute_result"
    }
   ],
   "source": [
    "song_data = df[['song_id', 'title', 'artist_id', 'year', 'duration']].values[0]\n",
    "song_data"
   ]
  },
  {
   "cell_type": "markdown",
   "metadata": {
    "pycharm": {
     "name": "#%% md\n"
    }
   },
   "source": [
    "#### Insert Record into Song Table\n",
    "Implement the `song_table_insert` query in `sql_queries.py` and run the cell below to insert a record for this song into the `songs` table. Remember to run `create_tables.py` before running the cell below to ensure you've created/resetted the `songs` table in the sparkify database."
   ]
  },
  {
   "cell_type": "code",
   "execution_count": 135,
   "metadata": {
    "pycharm": {
     "name": "#%%\n"
    }
   },
   "outputs": [],
   "source": [
    "song_table_insert = (\"\"\"\n",
    "INSERT INTO songs(song_id, title, artist_id, year, duration)\n",
    "VALUES(%s, %s, %s, %s, %s)\n",
    "\"\"\")\n",
    "cur.execute(song_table_insert, song_data)\n",
    "conn.commit()"
   ]
  },
  {
   "cell_type": "markdown",
   "metadata": {
    "pycharm": {
     "name": "#%% md\n"
    }
   },
   "source": [
    "Run `test.ipynb` to see if you've successfully added a record to this table."
   ]
  },
  {
   "cell_type": "markdown",
   "metadata": {
    "pycharm": {
     "name": "#%% md\n"
    }
   },
   "source": [
    "## #2: `artists` Table\n",
    "#### Extract Data for Artists Table\n",
    "- Select columns for artist ID, name, location, latitude, and longitude\n",
    "- Use `df.values` to select just the values from the dataframe\n",
    "- Index to select the first (only) record in the dataframe\n",
    "- Convert the array to a list and set it to `artist_data`"
   ]
  },
  {
   "cell_type": "code",
   "execution_count": 136,
   "metadata": {
    "pycharm": {
     "name": "#%%\n"
    }
   },
   "outputs": [
    {
     "data": {
      "text/plain": "array(['ARMJAGH1187FB546F3', 'The Box Tops', 'Memphis, TN', 35.14968,\n       -90.04892], dtype=object)"
     },
     "execution_count": 136,
     "metadata": {},
     "output_type": "execute_result"
    }
   ],
   "source": [
    "artist_data = df[['artist_id', 'artist_name', 'artist_location', 'artist_latitude', 'artist_longitude']].values[0]\n",
    "artist_data"
   ]
  },
  {
   "cell_type": "markdown",
   "metadata": {
    "pycharm": {
     "name": "#%% md\n"
    }
   },
   "source": [
    "#### Insert Record into Artist Table\n",
    "Implement the `artist_table_insert` query in `sql_queries.py` and run the cell below to insert a record for this song's artist into the `artists` table. Remember to run `create_tables.py` before running the cell below to ensure you've created/resetted the `artists` table in the sparkify database."
   ]
  },
  {
   "cell_type": "code",
   "execution_count": 137,
   "metadata": {
    "pycharm": {
     "name": "#%%\n"
    }
   },
   "outputs": [],
   "source": [
    "artist_table_insert = \"\"\"INSERT INTO ARTISTS (artist_id ,name ,location , latitude ,longitude  ) VALUES(%s, %s,%s, %s,%s)\"\"\"\n",
    "cur.execute(artist_table_insert, artist_data)\n",
    "conn.commit()"
   ]
  },
  {
   "cell_type": "markdown",
   "metadata": {
    "pycharm": {
     "name": "#%% md\n"
    }
   },
   "source": [
    "Run `test.ipynb` to see if you've successfully added a record to this table."
   ]
  },
  {
   "cell_type": "markdown",
   "metadata": {
    "pycharm": {
     "name": "#%% md\n"
    }
   },
   "source": [
    "# Process `log_data`\n",
    "In this part, you'll perform ETL on the second dataset, `log_data`, to create the `time` and `users` dimensional tables, as well as the `songplays` fact table.\n",
    "\n",
    "Let's perform ETL on a single log file and load a single record into each table.\n",
    "- Use the `get_files` function provided above to get a list of all log JSON files in `data/log_data`\n",
    "- Select the first log file in this list\n",
    "- Read the log file and view the data"
   ]
  },
  {
   "cell_type": "code",
   "execution_count": 138,
   "metadata": {
    "pycharm": {
     "name": "#%%\n"
    }
   },
   "outputs": [
    {
     "data": {
      "text/plain": "['C:\\\\Users\\\\sthoe09258\\\\OneDrive - Elekta\\\\Desktop\\\\udacity\\\\DataEngineering\\\\project1\\\\project-template\\\\data\\\\log_data\\\\2018\\\\11\\\\2018-11-01-events.json',\n 'C:\\\\Users\\\\sthoe09258\\\\OneDrive - Elekta\\\\Desktop\\\\udacity\\\\DataEngineering\\\\project1\\\\project-template\\\\data\\\\log_data\\\\2018\\\\11\\\\2018-11-02-events.json',\n 'C:\\\\Users\\\\sthoe09258\\\\OneDrive - Elekta\\\\Desktop\\\\udacity\\\\DataEngineering\\\\project1\\\\project-template\\\\data\\\\log_data\\\\2018\\\\11\\\\2018-11-03-events.json',\n 'C:\\\\Users\\\\sthoe09258\\\\OneDrive - Elekta\\\\Desktop\\\\udacity\\\\DataEngineering\\\\project1\\\\project-template\\\\data\\\\log_data\\\\2018\\\\11\\\\2018-11-04-events.json',\n 'C:\\\\Users\\\\sthoe09258\\\\OneDrive - Elekta\\\\Desktop\\\\udacity\\\\DataEngineering\\\\project1\\\\project-template\\\\data\\\\log_data\\\\2018\\\\11\\\\2018-11-05-events.json',\n 'C:\\\\Users\\\\sthoe09258\\\\OneDrive - Elekta\\\\Desktop\\\\udacity\\\\DataEngineering\\\\project1\\\\project-template\\\\data\\\\log_data\\\\2018\\\\11\\\\2018-11-06-events.json',\n 'C:\\\\Users\\\\sthoe09258\\\\OneDrive - Elekta\\\\Desktop\\\\udacity\\\\DataEngineering\\\\project1\\\\project-template\\\\data\\\\log_data\\\\2018\\\\11\\\\2018-11-07-events.json',\n 'C:\\\\Users\\\\sthoe09258\\\\OneDrive - Elekta\\\\Desktop\\\\udacity\\\\DataEngineering\\\\project1\\\\project-template\\\\data\\\\log_data\\\\2018\\\\11\\\\2018-11-08-events.json',\n 'C:\\\\Users\\\\sthoe09258\\\\OneDrive - Elekta\\\\Desktop\\\\udacity\\\\DataEngineering\\\\project1\\\\project-template\\\\data\\\\log_data\\\\2018\\\\11\\\\2018-11-09-events.json',\n 'C:\\\\Users\\\\sthoe09258\\\\OneDrive - Elekta\\\\Desktop\\\\udacity\\\\DataEngineering\\\\project1\\\\project-template\\\\data\\\\log_data\\\\2018\\\\11\\\\2018-11-10-events.json',\n 'C:\\\\Users\\\\sthoe09258\\\\OneDrive - Elekta\\\\Desktop\\\\udacity\\\\DataEngineering\\\\project1\\\\project-template\\\\data\\\\log_data\\\\2018\\\\11\\\\2018-11-11-events.json',\n 'C:\\\\Users\\\\sthoe09258\\\\OneDrive - Elekta\\\\Desktop\\\\udacity\\\\DataEngineering\\\\project1\\\\project-template\\\\data\\\\log_data\\\\2018\\\\11\\\\2018-11-12-events.json',\n 'C:\\\\Users\\\\sthoe09258\\\\OneDrive - Elekta\\\\Desktop\\\\udacity\\\\DataEngineering\\\\project1\\\\project-template\\\\data\\\\log_data\\\\2018\\\\11\\\\2018-11-13-events.json',\n 'C:\\\\Users\\\\sthoe09258\\\\OneDrive - Elekta\\\\Desktop\\\\udacity\\\\DataEngineering\\\\project1\\\\project-template\\\\data\\\\log_data\\\\2018\\\\11\\\\2018-11-14-events.json',\n 'C:\\\\Users\\\\sthoe09258\\\\OneDrive - Elekta\\\\Desktop\\\\udacity\\\\DataEngineering\\\\project1\\\\project-template\\\\data\\\\log_data\\\\2018\\\\11\\\\2018-11-15-events.json',\n 'C:\\\\Users\\\\sthoe09258\\\\OneDrive - Elekta\\\\Desktop\\\\udacity\\\\DataEngineering\\\\project1\\\\project-template\\\\data\\\\log_data\\\\2018\\\\11\\\\2018-11-16-events.json',\n 'C:\\\\Users\\\\sthoe09258\\\\OneDrive - Elekta\\\\Desktop\\\\udacity\\\\DataEngineering\\\\project1\\\\project-template\\\\data\\\\log_data\\\\2018\\\\11\\\\2018-11-17-events.json',\n 'C:\\\\Users\\\\sthoe09258\\\\OneDrive - Elekta\\\\Desktop\\\\udacity\\\\DataEngineering\\\\project1\\\\project-template\\\\data\\\\log_data\\\\2018\\\\11\\\\2018-11-18-events.json',\n 'C:\\\\Users\\\\sthoe09258\\\\OneDrive - Elekta\\\\Desktop\\\\udacity\\\\DataEngineering\\\\project1\\\\project-template\\\\data\\\\log_data\\\\2018\\\\11\\\\2018-11-19-events.json',\n 'C:\\\\Users\\\\sthoe09258\\\\OneDrive - Elekta\\\\Desktop\\\\udacity\\\\DataEngineering\\\\project1\\\\project-template\\\\data\\\\log_data\\\\2018\\\\11\\\\2018-11-20-events.json',\n 'C:\\\\Users\\\\sthoe09258\\\\OneDrive - Elekta\\\\Desktop\\\\udacity\\\\DataEngineering\\\\project1\\\\project-template\\\\data\\\\log_data\\\\2018\\\\11\\\\2018-11-21-events.json',\n 'C:\\\\Users\\\\sthoe09258\\\\OneDrive - Elekta\\\\Desktop\\\\udacity\\\\DataEngineering\\\\project1\\\\project-template\\\\data\\\\log_data\\\\2018\\\\11\\\\2018-11-22-events.json',\n 'C:\\\\Users\\\\sthoe09258\\\\OneDrive - Elekta\\\\Desktop\\\\udacity\\\\DataEngineering\\\\project1\\\\project-template\\\\data\\\\log_data\\\\2018\\\\11\\\\2018-11-23-events.json',\n 'C:\\\\Users\\\\sthoe09258\\\\OneDrive - Elekta\\\\Desktop\\\\udacity\\\\DataEngineering\\\\project1\\\\project-template\\\\data\\\\log_data\\\\2018\\\\11\\\\2018-11-24-events.json',\n 'C:\\\\Users\\\\sthoe09258\\\\OneDrive - Elekta\\\\Desktop\\\\udacity\\\\DataEngineering\\\\project1\\\\project-template\\\\data\\\\log_data\\\\2018\\\\11\\\\2018-11-25-events.json',\n 'C:\\\\Users\\\\sthoe09258\\\\OneDrive - Elekta\\\\Desktop\\\\udacity\\\\DataEngineering\\\\project1\\\\project-template\\\\data\\\\log_data\\\\2018\\\\11\\\\2018-11-26-events.json',\n 'C:\\\\Users\\\\sthoe09258\\\\OneDrive - Elekta\\\\Desktop\\\\udacity\\\\DataEngineering\\\\project1\\\\project-template\\\\data\\\\log_data\\\\2018\\\\11\\\\2018-11-27-events.json',\n 'C:\\\\Users\\\\sthoe09258\\\\OneDrive - Elekta\\\\Desktop\\\\udacity\\\\DataEngineering\\\\project1\\\\project-template\\\\data\\\\log_data\\\\2018\\\\11\\\\2018-11-28-events.json',\n 'C:\\\\Users\\\\sthoe09258\\\\OneDrive - Elekta\\\\Desktop\\\\udacity\\\\DataEngineering\\\\project1\\\\project-template\\\\data\\\\log_data\\\\2018\\\\11\\\\2018-11-29-events.json',\n 'C:\\\\Users\\\\sthoe09258\\\\OneDrive - Elekta\\\\Desktop\\\\udacity\\\\DataEngineering\\\\project1\\\\project-template\\\\data\\\\log_data\\\\2018\\\\11\\\\2018-11-30-events.json']"
     },
     "execution_count": 138,
     "metadata": {},
     "output_type": "execute_result"
    }
   ],
   "source": [
    "log_files = get_files(\"data/log_data\")\n",
    "log_files"
   ]
  },
  {
   "cell_type": "code",
   "execution_count": 139,
   "metadata": {
    "pycharm": {
     "name": "#%%\n"
    }
   },
   "outputs": [
    {
     "data": {
      "text/plain": "'C:\\\\Users\\\\sthoe09258\\\\OneDrive - Elekta\\\\Desktop\\\\udacity\\\\DataEngineering\\\\project1\\\\project-template\\\\data\\\\log_data\\\\2018\\\\11\\\\2018-11-01-events.json'"
     },
     "execution_count": 139,
     "metadata": {},
     "output_type": "execute_result"
    }
   ],
   "source": [
    "filepath = log_files[0]\n",
    "filepath"
   ]
  },
  {
   "cell_type": "code",
   "execution_count": 140,
   "metadata": {
    "pycharm": {
     "name": "#%%\n"
    }
   },
   "outputs": [
    {
     "data": {
      "text/plain": "    artist       auth firstName gender  itemInSession lastName     length  \\\n0     None  Logged In    Walter      M              0     Frye        NaN   \n1     None  Logged In    Kaylee      F              0  Summers        NaN   \n2  Des'ree  Logged In    Kaylee      F              1  Summers  246.30812   \n3     None  Logged In    Kaylee      F              2  Summers        NaN   \n4  Mr Oizo  Logged In    Kaylee      F              3  Summers  144.03873   \n\n  level                           location method      page   registration  \\\n0  free  San Francisco-Oakland-Hayward, CA    GET      Home  1540919166796   \n1  free        Phoenix-Mesa-Scottsdale, AZ    GET      Home  1540344794796   \n2  free        Phoenix-Mesa-Scottsdale, AZ    PUT  NextSong  1540344794796   \n3  free        Phoenix-Mesa-Scottsdale, AZ    GET   Upgrade  1540344794796   \n4  free        Phoenix-Mesa-Scottsdale, AZ    PUT  NextSong  1540344794796   \n\n   sessionId          song  status             ts  \\\n0         38          None     200  1541105830796   \n1        139          None     200  1541106106796   \n2        139  You Gotta Be     200  1541106106796   \n3        139          None     200  1541106132796   \n4        139       Flat 55     200  1541106352796   \n\n                                           userAgent  userId  \n0  \"Mozilla/5.0 (Macintosh; Intel Mac OS X 10_9_4...      39  \n1  \"Mozilla/5.0 (Windows NT 6.1; WOW64) AppleWebK...       8  \n2  \"Mozilla/5.0 (Windows NT 6.1; WOW64) AppleWebK...       8  \n3  \"Mozilla/5.0 (Windows NT 6.1; WOW64) AppleWebK...       8  \n4  \"Mozilla/5.0 (Windows NT 6.1; WOW64) AppleWebK...       8  ",
      "text/html": "<div>\n<style scoped>\n    .dataframe tbody tr th:only-of-type {\n        vertical-align: middle;\n    }\n\n    .dataframe tbody tr th {\n        vertical-align: top;\n    }\n\n    .dataframe thead th {\n        text-align: right;\n    }\n</style>\n<table border=\"1\" class=\"dataframe\">\n  <thead>\n    <tr style=\"text-align: right;\">\n      <th></th>\n      <th>artist</th>\n      <th>auth</th>\n      <th>firstName</th>\n      <th>gender</th>\n      <th>itemInSession</th>\n      <th>lastName</th>\n      <th>length</th>\n      <th>level</th>\n      <th>location</th>\n      <th>method</th>\n      <th>page</th>\n      <th>registration</th>\n      <th>sessionId</th>\n      <th>song</th>\n      <th>status</th>\n      <th>ts</th>\n      <th>userAgent</th>\n      <th>userId</th>\n    </tr>\n  </thead>\n  <tbody>\n    <tr>\n      <th>0</th>\n      <td>None</td>\n      <td>Logged In</td>\n      <td>Walter</td>\n      <td>M</td>\n      <td>0</td>\n      <td>Frye</td>\n      <td>NaN</td>\n      <td>free</td>\n      <td>San Francisco-Oakland-Hayward, CA</td>\n      <td>GET</td>\n      <td>Home</td>\n      <td>1540919166796</td>\n      <td>38</td>\n      <td>None</td>\n      <td>200</td>\n      <td>1541105830796</td>\n      <td>\"Mozilla/5.0 (Macintosh; Intel Mac OS X 10_9_4...</td>\n      <td>39</td>\n    </tr>\n    <tr>\n      <th>1</th>\n      <td>None</td>\n      <td>Logged In</td>\n      <td>Kaylee</td>\n      <td>F</td>\n      <td>0</td>\n      <td>Summers</td>\n      <td>NaN</td>\n      <td>free</td>\n      <td>Phoenix-Mesa-Scottsdale, AZ</td>\n      <td>GET</td>\n      <td>Home</td>\n      <td>1540344794796</td>\n      <td>139</td>\n      <td>None</td>\n      <td>200</td>\n      <td>1541106106796</td>\n      <td>\"Mozilla/5.0 (Windows NT 6.1; WOW64) AppleWebK...</td>\n      <td>8</td>\n    </tr>\n    <tr>\n      <th>2</th>\n      <td>Des'ree</td>\n      <td>Logged In</td>\n      <td>Kaylee</td>\n      <td>F</td>\n      <td>1</td>\n      <td>Summers</td>\n      <td>246.30812</td>\n      <td>free</td>\n      <td>Phoenix-Mesa-Scottsdale, AZ</td>\n      <td>PUT</td>\n      <td>NextSong</td>\n      <td>1540344794796</td>\n      <td>139</td>\n      <td>You Gotta Be</td>\n      <td>200</td>\n      <td>1541106106796</td>\n      <td>\"Mozilla/5.0 (Windows NT 6.1; WOW64) AppleWebK...</td>\n      <td>8</td>\n    </tr>\n    <tr>\n      <th>3</th>\n      <td>None</td>\n      <td>Logged In</td>\n      <td>Kaylee</td>\n      <td>F</td>\n      <td>2</td>\n      <td>Summers</td>\n      <td>NaN</td>\n      <td>free</td>\n      <td>Phoenix-Mesa-Scottsdale, AZ</td>\n      <td>GET</td>\n      <td>Upgrade</td>\n      <td>1540344794796</td>\n      <td>139</td>\n      <td>None</td>\n      <td>200</td>\n      <td>1541106132796</td>\n      <td>\"Mozilla/5.0 (Windows NT 6.1; WOW64) AppleWebK...</td>\n      <td>8</td>\n    </tr>\n    <tr>\n      <th>4</th>\n      <td>Mr Oizo</td>\n      <td>Logged In</td>\n      <td>Kaylee</td>\n      <td>F</td>\n      <td>3</td>\n      <td>Summers</td>\n      <td>144.03873</td>\n      <td>free</td>\n      <td>Phoenix-Mesa-Scottsdale, AZ</td>\n      <td>PUT</td>\n      <td>NextSong</td>\n      <td>1540344794796</td>\n      <td>139</td>\n      <td>Flat 55</td>\n      <td>200</td>\n      <td>1541106352796</td>\n      <td>\"Mozilla/5.0 (Windows NT 6.1; WOW64) AppleWebK...</td>\n      <td>8</td>\n    </tr>\n  </tbody>\n</table>\n</div>"
     },
     "execution_count": 140,
     "metadata": {},
     "output_type": "execute_result"
    }
   ],
   "source": [
    "df = pd.read_json(filepath, lines=True )\n",
    "df.head()"
   ]
  },
  {
   "cell_type": "markdown",
   "metadata": {
    "pycharm": {
     "name": "#%% md\n"
    }
   },
   "source": [
    "## #3: `time` Table\n",
    "#### Extract Data for Time Table\n",
    "- Filter records by `NextSong` action\n",
    "- Convert the `ts` timestamp column to datetime\n",
    "  - Hint: the current timestamp is in milliseconds\n",
    "- Extract the timestamp, hour, day, week of year, month, year, and weekday from the `ts` column and set `time_data` to a list containing these values in order\n",
    "  - Hint: use pandas' [`dt` attribute](https://pandas.pydata.org/pandas-docs/stable/reference/api/pandas.Series.dt.html) to access easily datetimelike properties.\n",
    "- Specify labels for these columns and set to `column_labels`\n",
    "- Create a dataframe, `time_df,` containing the time data for this file by combining `column_labels` and `time_data` into a dictionary and converting this into a dataframe"
   ]
  },
  {
   "cell_type": "code",
   "execution_count": 141,
   "metadata": {
    "pycharm": {
     "name": "#%%\n"
    }
   },
   "outputs": [
    {
     "data": {
      "text/plain": "              artist       auth firstName gender  itemInSession lastName  \\\n2            Des'ree  Logged In    Kaylee      F              1  Summers   \n4            Mr Oizo  Logged In    Kaylee      F              3  Summers   \n5         Tamba Trio  Logged In    Kaylee      F              4  Summers   \n6     The Mars Volta  Logged In    Kaylee      F              5  Summers   \n7  Infected Mushroom  Logged In    Kaylee      F              6  Summers   \n\n      length level                     location method      page  \\\n2  246.30812  free  Phoenix-Mesa-Scottsdale, AZ    PUT  NextSong   \n4  144.03873  free  Phoenix-Mesa-Scottsdale, AZ    PUT  NextSong   \n5  177.18812  free  Phoenix-Mesa-Scottsdale, AZ    PUT  NextSong   \n6  380.42077  free  Phoenix-Mesa-Scottsdale, AZ    PUT  NextSong   \n7  440.26730  free  Phoenix-Mesa-Scottsdale, AZ    PUT  NextSong   \n\n    registration  sessionId                          song  status  \\\n2  1540344794796        139                  You Gotta Be     200   \n4  1540344794796        139                       Flat 55     200   \n5  1540344794796        139  Quem Quiser Encontrar O Amor     200   \n6  1540344794796        139                     Eriatarka     200   \n7  1540344794796        139               Becoming Insane     200   \n\n              ts                                          userAgent  userId  \n2  1541106106796  \"Mozilla/5.0 (Windows NT 6.1; WOW64) AppleWebK...       8  \n4  1541106352796  \"Mozilla/5.0 (Windows NT 6.1; WOW64) AppleWebK...       8  \n5  1541106496796  \"Mozilla/5.0 (Windows NT 6.1; WOW64) AppleWebK...       8  \n6  1541106673796  \"Mozilla/5.0 (Windows NT 6.1; WOW64) AppleWebK...       8  \n7  1541107053796  \"Mozilla/5.0 (Windows NT 6.1; WOW64) AppleWebK...       8  ",
      "text/html": "<div>\n<style scoped>\n    .dataframe tbody tr th:only-of-type {\n        vertical-align: middle;\n    }\n\n    .dataframe tbody tr th {\n        vertical-align: top;\n    }\n\n    .dataframe thead th {\n        text-align: right;\n    }\n</style>\n<table border=\"1\" class=\"dataframe\">\n  <thead>\n    <tr style=\"text-align: right;\">\n      <th></th>\n      <th>artist</th>\n      <th>auth</th>\n      <th>firstName</th>\n      <th>gender</th>\n      <th>itemInSession</th>\n      <th>lastName</th>\n      <th>length</th>\n      <th>level</th>\n      <th>location</th>\n      <th>method</th>\n      <th>page</th>\n      <th>registration</th>\n      <th>sessionId</th>\n      <th>song</th>\n      <th>status</th>\n      <th>ts</th>\n      <th>userAgent</th>\n      <th>userId</th>\n    </tr>\n  </thead>\n  <tbody>\n    <tr>\n      <th>2</th>\n      <td>Des'ree</td>\n      <td>Logged In</td>\n      <td>Kaylee</td>\n      <td>F</td>\n      <td>1</td>\n      <td>Summers</td>\n      <td>246.30812</td>\n      <td>free</td>\n      <td>Phoenix-Mesa-Scottsdale, AZ</td>\n      <td>PUT</td>\n      <td>NextSong</td>\n      <td>1540344794796</td>\n      <td>139</td>\n      <td>You Gotta Be</td>\n      <td>200</td>\n      <td>1541106106796</td>\n      <td>\"Mozilla/5.0 (Windows NT 6.1; WOW64) AppleWebK...</td>\n      <td>8</td>\n    </tr>\n    <tr>\n      <th>4</th>\n      <td>Mr Oizo</td>\n      <td>Logged In</td>\n      <td>Kaylee</td>\n      <td>F</td>\n      <td>3</td>\n      <td>Summers</td>\n      <td>144.03873</td>\n      <td>free</td>\n      <td>Phoenix-Mesa-Scottsdale, AZ</td>\n      <td>PUT</td>\n      <td>NextSong</td>\n      <td>1540344794796</td>\n      <td>139</td>\n      <td>Flat 55</td>\n      <td>200</td>\n      <td>1541106352796</td>\n      <td>\"Mozilla/5.0 (Windows NT 6.1; WOW64) AppleWebK...</td>\n      <td>8</td>\n    </tr>\n    <tr>\n      <th>5</th>\n      <td>Tamba Trio</td>\n      <td>Logged In</td>\n      <td>Kaylee</td>\n      <td>F</td>\n      <td>4</td>\n      <td>Summers</td>\n      <td>177.18812</td>\n      <td>free</td>\n      <td>Phoenix-Mesa-Scottsdale, AZ</td>\n      <td>PUT</td>\n      <td>NextSong</td>\n      <td>1540344794796</td>\n      <td>139</td>\n      <td>Quem Quiser Encontrar O Amor</td>\n      <td>200</td>\n      <td>1541106496796</td>\n      <td>\"Mozilla/5.0 (Windows NT 6.1; WOW64) AppleWebK...</td>\n      <td>8</td>\n    </tr>\n    <tr>\n      <th>6</th>\n      <td>The Mars Volta</td>\n      <td>Logged In</td>\n      <td>Kaylee</td>\n      <td>F</td>\n      <td>5</td>\n      <td>Summers</td>\n      <td>380.42077</td>\n      <td>free</td>\n      <td>Phoenix-Mesa-Scottsdale, AZ</td>\n      <td>PUT</td>\n      <td>NextSong</td>\n      <td>1540344794796</td>\n      <td>139</td>\n      <td>Eriatarka</td>\n      <td>200</td>\n      <td>1541106673796</td>\n      <td>\"Mozilla/5.0 (Windows NT 6.1; WOW64) AppleWebK...</td>\n      <td>8</td>\n    </tr>\n    <tr>\n      <th>7</th>\n      <td>Infected Mushroom</td>\n      <td>Logged In</td>\n      <td>Kaylee</td>\n      <td>F</td>\n      <td>6</td>\n      <td>Summers</td>\n      <td>440.26730</td>\n      <td>free</td>\n      <td>Phoenix-Mesa-Scottsdale, AZ</td>\n      <td>PUT</td>\n      <td>NextSong</td>\n      <td>1540344794796</td>\n      <td>139</td>\n      <td>Becoming Insane</td>\n      <td>200</td>\n      <td>1541107053796</td>\n      <td>\"Mozilla/5.0 (Windows NT 6.1; WOW64) AppleWebK...</td>\n      <td>8</td>\n    </tr>\n  </tbody>\n</table>\n</div>"
     },
     "execution_count": 141,
     "metadata": {},
     "output_type": "execute_result"
    }
   ],
   "source": [
    "df = df[df['page'] == 'NextSong']\n",
    "df.head()"
   ]
  },
  {
   "cell_type": "code",
   "execution_count": 142,
   "metadata": {
    "pycharm": {
     "name": "#%%\n"
    }
   },
   "outputs": [
    {
     "data": {
      "text/plain": "2   2018-11-01 21:01:46.796\n4   2018-11-01 21:05:52.796\n5   2018-11-01 21:08:16.796\n6   2018-11-01 21:11:13.796\n7   2018-11-01 21:17:33.796\nName: ts, dtype: datetime64[ns]"
     },
     "execution_count": 142,
     "metadata": {},
     "output_type": "execute_result"
    }
   ],
   "source": [
    "t = pd.to_datetime(df['ts'], unit='ms')\n",
    "t.head()"
   ]
  },
  {
   "cell_type": "code",
   "execution_count": 143,
   "metadata": {
    "pycharm": {
     "name": "#%%\n"
    }
   },
   "outputs": [
    {
     "data": {
      "text/plain": "                       ts  ts  ts  week  ts    ts  ts\n2 2018-11-01 21:01:46.796  21   1    44  11  2018   3\n4 2018-11-01 21:05:52.796  21   1    44  11  2018   3\n5 2018-11-01 21:08:16.796  21   1    44  11  2018   3\n6 2018-11-01 21:11:13.796  21   1    44  11  2018   3\n7 2018-11-01 21:17:33.796  21   1    44  11  2018   3",
      "text/html": "<div>\n<style scoped>\n    .dataframe tbody tr th:only-of-type {\n        vertical-align: middle;\n    }\n\n    .dataframe tbody tr th {\n        vertical-align: top;\n    }\n\n    .dataframe thead th {\n        text-align: right;\n    }\n</style>\n<table border=\"1\" class=\"dataframe\">\n  <thead>\n    <tr style=\"text-align: right;\">\n      <th></th>\n      <th>ts</th>\n      <th>ts</th>\n      <th>ts</th>\n      <th>week</th>\n      <th>ts</th>\n      <th>ts</th>\n      <th>ts</th>\n    </tr>\n  </thead>\n  <tbody>\n    <tr>\n      <th>2</th>\n      <td>2018-11-01 21:01:46.796</td>\n      <td>21</td>\n      <td>1</td>\n      <td>44</td>\n      <td>11</td>\n      <td>2018</td>\n      <td>3</td>\n    </tr>\n    <tr>\n      <th>4</th>\n      <td>2018-11-01 21:05:52.796</td>\n      <td>21</td>\n      <td>1</td>\n      <td>44</td>\n      <td>11</td>\n      <td>2018</td>\n      <td>3</td>\n    </tr>\n    <tr>\n      <th>5</th>\n      <td>2018-11-01 21:08:16.796</td>\n      <td>21</td>\n      <td>1</td>\n      <td>44</td>\n      <td>11</td>\n      <td>2018</td>\n      <td>3</td>\n    </tr>\n    <tr>\n      <th>6</th>\n      <td>2018-11-01 21:11:13.796</td>\n      <td>21</td>\n      <td>1</td>\n      <td>44</td>\n      <td>11</td>\n      <td>2018</td>\n      <td>3</td>\n    </tr>\n    <tr>\n      <th>7</th>\n      <td>2018-11-01 21:17:33.796</td>\n      <td>21</td>\n      <td>1</td>\n      <td>44</td>\n      <td>11</td>\n      <td>2018</td>\n      <td>3</td>\n    </tr>\n  </tbody>\n</table>\n</div>"
     },
     "execution_count": 143,
     "metadata": {},
     "output_type": "execute_result"
    }
   ],
   "source": [
    "time_data = pd.concat([t, t.dt.hour, t.dt.day, t.dt.isocalendar().week, t.dt.month, t.dt.year, t.dt.weekday], axis = 1)\n",
    "column_labels = ['start_time', 'hour', 'day', 'week', 'month', 'year', 'weekday']\n",
    "time_data.head()\n",
    "#column_labels = ()"
   ]
  },
  {
   "cell_type": "code",
   "execution_count": 144,
   "metadata": {
    "pycharm": {
     "name": "#%%\n"
    }
   },
   "outputs": [
    {
     "data": {
      "text/plain": "               start_time hour day week month  year weekday\n0 2018-11-01 21:01:46.796   21   1   44    11  2018       3\n1 2018-11-01 21:05:52.796   21   1   44    11  2018       3\n2 2018-11-01 21:08:16.796   21   1   44    11  2018       3\n3 2018-11-01 21:11:13.796   21   1   44    11  2018       3\n4 2018-11-01 21:17:33.796   21   1   44    11  2018       3",
      "text/html": "<div>\n<style scoped>\n    .dataframe tbody tr th:only-of-type {\n        vertical-align: middle;\n    }\n\n    .dataframe tbody tr th {\n        vertical-align: top;\n    }\n\n    .dataframe thead th {\n        text-align: right;\n    }\n</style>\n<table border=\"1\" class=\"dataframe\">\n  <thead>\n    <tr style=\"text-align: right;\">\n      <th></th>\n      <th>start_time</th>\n      <th>hour</th>\n      <th>day</th>\n      <th>week</th>\n      <th>month</th>\n      <th>year</th>\n      <th>weekday</th>\n    </tr>\n  </thead>\n  <tbody>\n    <tr>\n      <th>0</th>\n      <td>2018-11-01 21:01:46.796</td>\n      <td>21</td>\n      <td>1</td>\n      <td>44</td>\n      <td>11</td>\n      <td>2018</td>\n      <td>3</td>\n    </tr>\n    <tr>\n      <th>1</th>\n      <td>2018-11-01 21:05:52.796</td>\n      <td>21</td>\n      <td>1</td>\n      <td>44</td>\n      <td>11</td>\n      <td>2018</td>\n      <td>3</td>\n    </tr>\n    <tr>\n      <th>2</th>\n      <td>2018-11-01 21:08:16.796</td>\n      <td>21</td>\n      <td>1</td>\n      <td>44</td>\n      <td>11</td>\n      <td>2018</td>\n      <td>3</td>\n    </tr>\n    <tr>\n      <th>3</th>\n      <td>2018-11-01 21:11:13.796</td>\n      <td>21</td>\n      <td>1</td>\n      <td>44</td>\n      <td>11</td>\n      <td>2018</td>\n      <td>3</td>\n    </tr>\n    <tr>\n      <th>4</th>\n      <td>2018-11-01 21:17:33.796</td>\n      <td>21</td>\n      <td>1</td>\n      <td>44</td>\n      <td>11</td>\n      <td>2018</td>\n      <td>3</td>\n    </tr>\n  </tbody>\n</table>\n</div>"
     },
     "execution_count": 144,
     "metadata": {},
     "output_type": "execute_result"
    }
   ],
   "source": [
    "time_df = pd.DataFrame(data=time_data.values, columns=column_labels)\n",
    "time_df.head()"
   ]
  },
  {
   "cell_type": "markdown",
   "metadata": {
    "pycharm": {
     "name": "#%% md\n"
    }
   },
   "source": [
    "#### Insert Records into Time Table\n",
    "Implement the `time_table_insert` query in `sql_queries.py` and run the cell below to insert records for the timestamps in this log file into the `time` table. Remember to run `create_tables.py` before running the cell below to ensure you've created/resetted the `time` table in the sparkify database."
   ]
  },
  {
   "cell_type": "code",
   "execution_count": 145,
   "metadata": {
    "pycharm": {
     "name": "#%%\n"
    }
   },
   "outputs": [],
   "source": [
    "time_table_insert = (\"\"\"\n",
    "INSERT INTO time(start_time, hour, day, week, month, year, weekday)\n",
    "VALUES(%s, %s, %s, %s, %s, %s, %s)\n",
    "ON CONFLICT (start_time) DO NOTHING\n",
    "\"\"\")\n",
    "\n",
    "for i, row in time_df.iterrows():\n",
    "    cur.execute(time_table_insert, list(row))\n",
    "    conn.commit()"
   ]
  },
  {
   "cell_type": "markdown",
   "source": [],
   "metadata": {
    "collapsed": false,
    "pycharm": {
     "name": "#%% md\n"
    }
   }
  },
  {
   "cell_type": "markdown",
   "metadata": {
    "pycharm": {
     "name": "#%% md\n"
    }
   },
   "source": [
    "Run `test.ipynb` to see if you've successfully added records to this table."
   ]
  },
  {
   "cell_type": "markdown",
   "metadata": {
    "pycharm": {
     "name": "#%% md\n"
    }
   },
   "source": [
    "## #4: `users` Table\n",
    "#### Extract Data for Users Table\n",
    "- Select columns for user ID, first name, last name, gender and level and set to `user_df`"
   ]
  },
  {
   "cell_type": "code",
   "execution_count": 146,
   "metadata": {
    "pycharm": {
     "name": "#%%\n"
    }
   },
   "outputs": [
    {
     "data": {
      "text/plain": "   userId firstName lastName gender level\n2       8    Kaylee  Summers      F  free\n4       8    Kaylee  Summers      F  free\n5       8    Kaylee  Summers      F  free\n6       8    Kaylee  Summers      F  free\n7       8    Kaylee  Summers      F  free",
      "text/html": "<div>\n<style scoped>\n    .dataframe tbody tr th:only-of-type {\n        vertical-align: middle;\n    }\n\n    .dataframe tbody tr th {\n        vertical-align: top;\n    }\n\n    .dataframe thead th {\n        text-align: right;\n    }\n</style>\n<table border=\"1\" class=\"dataframe\">\n  <thead>\n    <tr style=\"text-align: right;\">\n      <th></th>\n      <th>userId</th>\n      <th>firstName</th>\n      <th>lastName</th>\n      <th>gender</th>\n      <th>level</th>\n    </tr>\n  </thead>\n  <tbody>\n    <tr>\n      <th>2</th>\n      <td>8</td>\n      <td>Kaylee</td>\n      <td>Summers</td>\n      <td>F</td>\n      <td>free</td>\n    </tr>\n    <tr>\n      <th>4</th>\n      <td>8</td>\n      <td>Kaylee</td>\n      <td>Summers</td>\n      <td>F</td>\n      <td>free</td>\n    </tr>\n    <tr>\n      <th>5</th>\n      <td>8</td>\n      <td>Kaylee</td>\n      <td>Summers</td>\n      <td>F</td>\n      <td>free</td>\n    </tr>\n    <tr>\n      <th>6</th>\n      <td>8</td>\n      <td>Kaylee</td>\n      <td>Summers</td>\n      <td>F</td>\n      <td>free</td>\n    </tr>\n    <tr>\n      <th>7</th>\n      <td>8</td>\n      <td>Kaylee</td>\n      <td>Summers</td>\n      <td>F</td>\n      <td>free</td>\n    </tr>\n  </tbody>\n</table>\n</div>"
     },
     "execution_count": 146,
     "metadata": {},
     "output_type": "execute_result"
    }
   ],
   "source": [
    "user_df = df[['userId', 'firstName', 'lastName', 'gender', 'level']]\n",
    "user_df.head()"
   ]
  },
  {
   "cell_type": "markdown",
   "metadata": {
    "pycharm": {
     "name": "#%% md\n"
    }
   },
   "source": [
    "#### Insert Records into Users Table\n",
    "Implement the `user_table_insert` query in `sql_queries.py` and run the cell below to insert records for the users in this log file into the `users` table. Remember to run `create_tables.py` before running the cell below to ensure you've created/resetted the `users` table in the sparkify database."
   ]
  },
  {
   "cell_type": "code",
   "execution_count": 147,
   "metadata": {
    "pycharm": {
     "name": "#%%\n"
    }
   },
   "outputs": [],
   "source": [
    "user_table_insert = (\"\"\"\n",
    "INSERT INTO users(user_id, first_name, last_name, gender, level)\n",
    "VALUES(%s, %s, %s, %s, %s)\n",
    "ON CONFLICT (user_id) DO UPDATE set level = EXCLUDED.level\n",
    "\"\"\")\n",
    "for i, row in user_df.iterrows():\n",
    "    cur.execute(user_table_insert, row)\n",
    "    conn.commit()"
   ]
  },
  {
   "cell_type": "markdown",
   "metadata": {
    "pycharm": {
     "name": "#%% md\n"
    }
   },
   "source": [
    "Run `test.ipynb` to see if you've successfully added records to this table."
   ]
  },
  {
   "cell_type": "markdown",
   "metadata": {
    "pycharm": {
     "name": "#%% md\n"
    }
   },
   "source": [
    "## #5: `songplays` Table\n",
    "#### Extract Data and Songplays Table\n",
    "This one is a little more complicated since information from the songs table, artists table, and original log file are all needed for the `songplays` table. Since the log file does not specify an ID for either the song or the artist, you'll need to get the song ID and artist ID by querying the songs and artists tables to find matches based on song title, artist name, and song duration time.\n",
    "- Implement the `song_select` query in `sql_queries.py` to find the song ID and artist ID based on the title, artist name, and duration of a song.\n",
    "- Select the timestamp, user ID, level, song ID, artist ID, session ID, location, and user agent and set to `songplay_data`\n",
    "\n",
    "#### Insert Records into Songplays Table\n",
    "- Implement the `songplay_table_insert` query and run the cell below to insert records for the songplay actions in this log file into the `songplays` table. Remember to run `create_tables.py` before running the cell below to ensure you've created/resetted the `songplays` table in the sparkify database."
   ]
  },
  {
   "cell_type": "code",
   "execution_count": 148,
   "metadata": {
    "pycharm": {
     "name": "#%%\n"
    }
   },
   "outputs": [],
   "source": [
    "song_select = \"\"\"select s.song_id songid, s.artist_id artistid from songs s inner join artists a on s.artist_id = a.artist_id where s.title = %s and a.name = %s and s.duration = %s\"\"\"\n",
    "songplay_table_insert = \"\"\"INSERT INTO songplays(start_time,user_id,level,song_id,artist_id,session_id,location,user_agent) VALUES(%s, %s, %s, %s, %s, %s, %s, %s)\"\"\"\n",
    "\n",
    "\n",
    "for index, row in df.iterrows():\n",
    "\n",
    "    # get songid and artistid from song and artist tables\n",
    "    cur.execute(song_select, (row.song, row.artist, row.length))\n",
    "    results = cur.fetchone()\n",
    "    \n",
    "    if results:\n",
    "        songid, artistid = results\n",
    "    else:\n",
    "        songid, artistid = None, None\n",
    "\n",
    "    # insert songplay record\n",
    "    # insert songplay record\n",
    "    songplay_data = (pd.to_datetime(row.ts, unit='ms'), row.userId, row.level, songid, artistid, row.sessionId, row.location, row.userAgent)\n",
    "    cur.execute(songplay_table_insert, songplay_data)\n",
    "    conn.commit()"
   ]
  },
  {
   "cell_type": "markdown",
   "metadata": {
    "pycharm": {
     "name": "#%% md\n"
    }
   },
   "source": [
    "Run `test.ipynb` to see if you've successfully added records to this table."
   ]
  },
  {
   "cell_type": "markdown",
   "metadata": {
    "pycharm": {
     "name": "#%% md\n"
    }
   },
   "source": [
    "# Close Connection to Sparkify Database"
   ]
  },
  {
   "cell_type": "code",
   "execution_count": 149,
   "metadata": {
    "pycharm": {
     "name": "#%%\n"
    }
   },
   "outputs": [],
   "source": [
    "conn.close()"
   ]
  },
  {
   "cell_type": "markdown",
   "metadata": {
    "pycharm": {
     "name": "#%% md\n"
    }
   },
   "source": [
    "# Implement `etl.py`\n",
    "Use what you've completed in this notebook to implement `etl.py`."
   ]
  },
  {
   "cell_type": "code",
   "execution_count": 149,
   "metadata": {
    "pycharm": {
     "name": "#%%\n"
    }
   },
   "outputs": [],
   "source": []
  }
 ],
 "metadata": {
  "kernelspec": {
   "display_name": "Python 3",
   "language": "python",
   "name": "python3"
  },
  "language_info": {
   "codemirror_mode": {
    "name": "ipython",
    "version": 3
   },
   "file_extension": ".py",
   "mimetype": "text/x-python",
   "name": "python",
   "nbconvert_exporter": "python",
   "pygments_lexer": "ipython3",
   "version": "3.6.3"
  }
 },
 "nbformat": 4,
 "nbformat_minor": 2
}